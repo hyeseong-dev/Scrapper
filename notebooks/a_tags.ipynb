{
    "cells": [
        {
            "cell_type": "code",
            "execution_count": 2,
            "id": "5199f0a8-ee30-4280-8c9b-f93e709087b5",
            "metadata": {},
            "outputs": [],
            "source": [
                "import sys\n",
                "from pathlib import Path\n",
                "project_path = str(Path.cwd().parent)\n",
                "sys.path.append(project_path)"
            ]
        },
        {
            "cell_type": "code",
            "execution_count": 25,
            "id": "107c6feb-d891-498b-a4f0-9cee89d11bcb",
            "metadata": {},
            "outputs": [
                {
                    "name": "stdout",
                    "output_type": "stream",
                    "text": [
                        "[1, 2, 3, 4, 5]\n"
                    ]
                }
            ],
            "source": [
                "\n",
                "import re\n",
                "import sys\n",
                "import requests\n",
                "from bs4 import BeautifulSoup\n",
                "from agents import get_user_agents\n",
                "\n",
                "\n",
                "def scrape_categories(url, code=None):\n",
                "\n",
                "    try:\n",
                "\n",
                "        req = requests.get(\n",
                "            url=f\"{url}/view_01.asp?code={code}\", headers={\"User-Agent\": get_user_agents()}\n",
                "        )\n",
                "    except Exception as e:\n",
                "        pass\n",
                "    soup = BeautifulSoup(req.content, \"lxml\", from_encoding=\"utf-8\")\n",
                "\n",
                "    category_path = [a.get(\"href\") for a in soup.find_all(\"a\", href=re.compile(\"view_0[1-5]\"))]\n",
                "    if category_path:\n",
                "        pattern = \"\\d+\"\n",
                "        extracted_numbers = [re.search(pattern, item).group() for item in category_path]\n",
                "        result = [int(number) for number in extracted_numbers]\n",
                "        return result\n",
                "\n",
                "\n",
                "if __name__ == \"__main__\":\n",
                "    import a_tags\n",
                "\n",
                "    code = \"B202206162\"\n",
                "    url = \"http://www.ipostock.co.kr/view_pg\"\n",
                "    each_full_urls = scrape_categories(url, code)\n",
                "    print(each_full_urls)"
            ]
        },
        {
            "cell_type": "code",
            "execution_count": null,
            "id": "8c80e0cf-b8a1-4fce-9df1-3f40f05967b7",
            "metadata": {},
            "outputs": [
                {
                    "name": "stdout",
                    "output_type": "stream",
                    "text": [
                        "view_05.asp?code=B202206162&gmenu=\n",
                        "view_05.asp?code=B202206162&gmenu=\n",
                        "view_05.asp?code=B202206162&gmenu=\n",
                        "view_05.asp?code=B202206162&gmenu=\n",
                        "view_05.asp?code=B202206162&gmenu=\n"
                    ]
                },
                {
                    "data": {
                        "text/plain": [
                            "[]"
                        ]
                    },
                    "execution_count": 17,
                    "metadata": {},
                    "output_type": "execute_result"
                }
            ],
            "source": [
                "a와 b변수의 item 값에 매칭되어 tab1~tab가 dynamic하게 호출되고 매개변수로 전달되어야한다. \n",
                "이를 파이썬으로 어떻게 만들어야하지?\n",
                "대답은 영어로 해줘\n",
                "a = ['01', '02', '03', '04', '05']\n",
                "\n",
                "tab1(01)\n",
                "tab2(02)\n",
                "tab3(03)\n",
                "tab4(04)\n",
                "tab5(05)\n",
                "\n",
                "b = ['01', '03', '04', '05']\n",
                "\n",
                "tab2(01)\n",
                "tab3(03)\n",
                "tab4(04)\n",
                "tab5(05)"
            ]
        }
    ],
    "metadata": {
        "kernelspec": {
            "display_name": "Python 3 (ipykernel)",
            "language": "python",
            "name": "python3"
        },
        "language_info": {
            "codemirror_mode": {
                "name": "ipython",
                "version": 3
            },
            "file_extension": ".py",
            "mimetype": "text/x-python",
            "name": "python",
            "nbconvert_exporter": "python",
            "pygments_lexer": "ipython3",
            "version": "3.10.0"
        }
    },
    "nbformat": 4,
    "nbformat_minor": 5
}