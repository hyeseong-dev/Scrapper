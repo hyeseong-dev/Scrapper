{
 "cells": [
  {
   "cell_type": "code",
   "execution_count": null,
   "metadata": {},
   "outputs": [],
   "source": [
    "from datetime import datetime\n",
    "import sys\n",
    "from pathlib import Path\n",
    "project_path = str(Path.cwd().parent)\n",
    "sys.path.append(project_path)\n",
    "\n",
    "\n",
    "async def parse_appcalendar_data(**kwargs):\n",
    "    date_criteria = dict(\n",
    "        ci_demand_forecast_date=(1, \"수요예측일\"),\n",
    "        ci_public_subscription_date=(2, \"청약일\"),\n",
    "        ci_refund_date=(3, \"환불일\"),\n",
    "        ci_listing_date=(4, \"상장일\"),\n",
    "    )\n",
    "    ci_public_subscription_date = (\n",
    "        False\n",
    "        if kwargs.get(\"ci_public_subscription_date\") == \"공모철회\"\n",
    "        else kwargs.get(\"ci_public_subscription_date\")\n",
    "    )\n",
    "    ac_company_name = kwargs.pop(\"ci_name\")\n",
    "\n",
    "    result = []\n",
    "    for key, value in kwargs.items():\n",
    "        ac_category, ac_category_name = date_criteria.get(key)\n",
    "        match = re.search(r\"\\d{4}\", value)\n",
    "        if match:\n",
    "            start_end = value.split(\"~\")\n",
    "            if ac_category_name in (\"상장일\", \"납입일\"):\n",
    "                ac_sdate = ac_edate = start_end[0]\n",
    "            elif ac_category_name in (\"수요예측일\", \"청약일\"):\n",
    "                ac_sdate, ac_edate = start_end\n",
    "            else:\n",
    "                if len(value.split(\"~\")) != 2:\n",
    "                    ac_sdate, ac_edate = value.split(\"~\")\n",
    "                else:\n",
    "                    ac_sdate = ac_edate = \"\"\n",
    "            if not ci_public_subscription_date:\n",
    "                result.append(\n",
    "                    dict(\n",
    "                        ac_sdate=\"공모철회\",\n",
    "                        ac_edate=\"공모철회\",\n",
    "                        ac_category=ac_category,\n",
    "                        ac_category_name=ac_category_name,\n",
    "                        ac_company_name=ac_company_name,\n",
    "                        ac_vitalize=1,\n",
    "                        ac_datetime=datetime.datetime.now(),\n",
    "                    )\n",
    "                )\n",
    "            else:\n",
    "                result.append(\n",
    "                    dict(\n",
    "                        ac_sdate=ac_sdate,\n",
    "                        ac_edate=ac_edate,\n",
    "                        ac_category=ac_category,\n",
    "                        ac_category_name=ac_category_name,\n",
    "                        ac_company_name=ac_company_name,\n",
    "                        ac_vitalize=1,\n",
    "                        ac_datetime=datetime.datetime.now(),\n",
    "                    )\n",
    "                )\n",
    "    return result"
   ]
  }
 ],
 "metadata": {
  "kernelspec": {
   "display_name": "venv",
   "language": "python",
   "name": "python3"
  },
  "language_info": {
   "name": "python",
   "version": "3.10.0 (default, Dec 26 2022, 11:20:10) [Clang 14.0.0 (clang-1400.0.29.102)]"
  },
  "orig_nbformat": 4,
  "vscode": {
   "interpreter": {
    "hash": "d63fa3fafd5b69ac1a17fd48e1518475e26bb632168b41c435fb31415c5f1576"
   }
  }
 },
 "nbformat": 4,
 "nbformat_minor": 2
}
