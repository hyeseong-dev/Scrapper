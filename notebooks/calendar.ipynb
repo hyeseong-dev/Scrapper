{
    "cells": [
        {
            "cell_type": "code",
            "execution_count": 1,
            "metadata": {},
            "outputs": [],
            "source": [
                "import sys\n",
                "from pathlib import Path\n",
                "project_path = str(Path.cwd().parent)\n",
                "sys.path.append(project_path)\n"
            ]
        },
        {
            "cell_type": "code",
            "execution_count": 34,
            "metadata": {},
            "outputs": [
                {
                    "data": {
                        "text/plain": [
                            "{'ci_demand_forecast_date': '2022/11/21 ~ 11/22',\n",
                            " 'ci_public_subscription_date': '2022/11/24 ~ 11/25',\n",
                            " 'ci_refund_date': '2022/11/29',\n",
                            " 'ci_payment_date': '2022/11/29'}"
                        ]
                    },
                    "execution_count": 34,
                    "metadata": {},
                    "output_type": "execute_result"
                }
            ],
            "source": [
                "date = dict(ci_demand_forecast_date = \"2022/11/21 ~ 11/22\",\n",
                "ci_public_subscription_date = \"2022/11/24 ~ 11/25\",\n",
                "ci_refund_date = \"2022/11/29\",\n",
                "ci_payment_date = \"2022/11/29\")\n",
                "date"
            ]
        },
        {
            "cell_type": "code",
            "execution_count": 35,
            "metadata": {},
            "outputs": [],
            "source": [
                "import re\n",
                "from datetime import datetime\n",
                "\n",
                "from pydantic import BaseModel, validator, Field\n",
                "from ipo.utilities import converters\n",
                "\n",
                "class AppCalendarBaseSchema(BaseModel):\n",
                "    ac_sdate:str = ''\n",
                "    ac_edate:str = ac_sdate\n",
                "    ac_category_name:str = ''\n",
                "    ac_category:int = ac_category_name\n",
                "    ac_company_name:str = ''\n",
                "    ac_vitalize:str = 1\n",
                "    ac_datetime:datetime = datetime.now()\n"
            ]
        },
        {
            "cell_type": "code",
            "execution_count": 47,
            "metadata": {},
            "outputs": [
                {
                    "name": "stdout",
                    "output_type": "stream",
                    "text": [
                        "2022-11-24 2022-11-24 1 수요예측일\n",
                        "2022-11-24 2022-11-24 2 공모일\n",
                        "2022-11-24 2022-11-24 3 환불일\n",
                        "2022-11-24 2022-11-24 4 납입일\n"
                    ]
                }
            ],
            "source": [
                "date_criteria = dict(ci_demand_forecast_date=(1, '수요예측일'),\n",
                "    ci_public_subscription_date=(2, '공모일'),\n",
                "    ci_refund_date=(3,'환불일'),\n",
                "    ci_payment_date=(4, '납입일')\n",
                "    )\n",
                "    \n",
                "for k, v in date.items():\n",
                "    match = re.search(r'\\d{4}', v)\n",
                "    if match:\n",
                "        year = match.group()\n",
                "        ac_category, ac_category_name = date_criteria.get(k)\n",
                "        # if ac_category_name in ('수요예측일', '공모일'):\n",
                "        if len(end) >= 5 and '/' in end:\n",
                "            start, end = v.replace(' ', '').replace('/', '-').strip().split('~')\n",
                "            s_date = start\n",
                "            e_date = f\"{year}-{end}\"\n",
                "        else :\n",
                "            s_date = e_date = start\n",
                "        print(s_date, e_date, ac_category, ac_category_name)\n",
                "    \n",
                "# AppCalendarBaseSchema(ac_sdate=)"
            ]
        },
        {
            "cell_type": "code",
            "execution_count": 27,
            "metadata": {},
            "outputs": [
                {
                    "name": "stdout",
                    "output_type": "stream",
                    "text": [
                        "None <class 'NoneType'>\n"
                    ]
                }
            ],
            "source": [
                "import re\n",
                "\n",
                "s = \"202/11/21 ~ 11/22\"\n",
                "\n",
                "match = re.search(r'\\d{4}', s)\n",
                "print(match, type(match))\n",
                "if match:\n",
                "    print(match.group())\n"
            ]
        },
        {
            "cell_type": "code",
            "execution_count": 31,
            "metadata": {},
            "outputs": [
                {
                    "name": "stdout",
                    "output_type": "stream",
                    "text": [
                        "나가\n"
                    ]
                },
                {
                    "data": {
                        "text/plain": [
                            "''"
                        ]
                    },
                    "execution_count": 31,
                    "metadata": {},
                    "output_type": "execute_result"
                }
            ],
            "source": [
                "import string\n",
                "a = ''\n",
                "if a in string.whitespace:\n",
                "    print('나가')\n",
                "a.split('/')[0]"
            ]
        },
        {
            "cell_type": "code",
            "execution_count": 38,
            "metadata": {},
            "outputs": [
                {
                    "data": {
                        "text/plain": [
                            "['~']"
                        ]
                    },
                    "execution_count": 38,
                    "metadata": {},
                    "output_type": "execute_result"
                }
            ],
            "source": [
                "import re\n",
                "\n",
                "s = \"2022/11/21 ~ 11/22\"\n",
                "\n",
                "re.findall(\"~\", s)\n"
            ]
        },
        {
            "cell_type": "code",
            "execution_count": 45,
            "metadata": {},
            "outputs": [],
            "source": [
                "class AppCalendarBaseSchema(BaseModel):\n",
                "    ac_sdate:str = ''\n",
                "    ac_edate:str = ac_sdate\n",
                "    ac_category_name:str = ''\n",
                "    ac_category:int = ac_category_name\n",
                "    ac_company_name:str = ''\n",
                "    ac_vitalize:str = 1\n",
                "    ac_datetime:datetime = datetime.now()"
            ]
        },
        {
            "cell_type": "code",
            "execution_count": 46,
            "metadata": {},
            "outputs": [
                {
                    "data": {
                        "text/plain": [
                            "AppCalendarBaseSchema(ac_sdate='2022/11/21 ~ 11/22', ac_edate='', ac_category_name='수요예측일', ac_category='', ac_company_name='디어유', ac_vitalize=1, ac_datetime=datetime.datetime(2023, 1, 25, 0, 4, 55, 680029))"
                        ]
                    },
                    "execution_count": 46,
                    "metadata": {},
                    "output_type": "execute_result"
                }
            ],
            "source": [
                "a = AppCalendarBaseSchema(\n",
                "    ac_sdate = \"2022/11/21 ~ 11/22\",\n",
                "    ac_category_name = '수요예측일',\n",
                "    ac_company_name = '디어유',\n",
                ")\n",
                "a"
            ]
        },
        {
            "cell_type": "code",
            "execution_count": null,
            "metadata": {},
            "outputs": [],
            "source": []
        },
        {
            "cell_type": "code",
            "execution_count": 19,
            "metadata": {},
            "outputs": [
                {
                    "name": "stdout",
                    "output_type": "stream",
                    "text": [
                        "convert_ac_company_name\n",
                        "래몽래인\n",
                        "convert_ac_company_name\n",
                        "래몽래인\n",
                        "convert_ac_company_name\n",
                        "래몽래인\n",
                        "convert_ac_company_name\n",
                        "래몽래인\n"
                    ]
                },
                {
                    "data": {
                        "text/plain": [
                            "[{'ac_sdate': '',\n",
                            "  'ac_edate': '',\n",
                            "  'ac_category_name': '',\n",
                            "  'ac_category': '',\n",
                            "  'ac_company_name': '래몽래인',\n",
                            "  'ac_vitalize': 1,\n",
                            "  'ac_datetime': datetime.datetime(2023, 1, 25, 1, 40, 43, 153153)},\n",
                            " {'ac_sdate': '',\n",
                            "  'ac_edate': '',\n",
                            "  'ac_category_name': '',\n",
                            "  'ac_category': '',\n",
                            "  'ac_company_name': '래몽래인',\n",
                            "  'ac_vitalize': 1,\n",
                            "  'ac_datetime': datetime.datetime(2023, 1, 25, 1, 40, 43, 153153)},\n",
                            " {'ac_sdate': '',\n",
                            "  'ac_edate': '',\n",
                            "  'ac_category_name': '',\n",
                            "  'ac_category': '',\n",
                            "  'ac_company_name': '래몽래인',\n",
                            "  'ac_vitalize': 1,\n",
                            "  'ac_datetime': datetime.datetime(2023, 1, 25, 1, 40, 43, 153153)},\n",
                            " {'ac_sdate': '',\n",
                            "  'ac_edate': '',\n",
                            "  'ac_category_name': '',\n",
                            "  'ac_category': '',\n",
                            "  'ac_company_name': '래몽래인',\n",
                            "  'ac_vitalize': 1,\n",
                            "  'ac_datetime': datetime.datetime(2023, 1, 25, 1, 40, 43, 153153)}]"
                        ]
                    },
                    "execution_count": 19,
                    "metadata": {},
                    "output_type": "execute_result"
                }
            ],
            "source": [
                "import re\n",
                "from datetime import datetime\n",
                "\n",
                "from pydantic import BaseModel, validator, Field\n",
                "\n",
                "class CalendarBaseSchema(BaseModel):\n",
                "    ac_sdate:str = ''\n",
                "    ac_edate:str = ac_sdate\n",
                "    ac_category_name:str = ''\n",
                "    ac_category:int = ac_category_name\n",
                "    ac_company_name:str = ''\n",
                "    ac_vitalize:str = 1\n",
                "    ac_datetime:datetime = datetime.now()\n",
                "\n",
                "\n",
                "class CalendarCreateSchema(CalendarBaseSchema):\n",
                "    @validator(\"ac_sdate\", pre=True)\n",
                "    def convert_ac_sdate(cls, value):\n",
                "        print('convert_ac_sdate')\n",
                "        print(value)\n",
                "        start, _ = value.replace(' ', '').replace('.', '-').strip().split('~')\n",
                "        return start\n",
                "\n",
                "    @validator(\"ac_edate\", pre=True)\n",
                "    def convert_ac_edate(cls, value):\n",
                "        print('convert_ac_edate')\n",
                "        print(value)\n",
                "        _, end = value.replace(' ', '').replace('.', '-').strip().split('~')\n",
                "        year = re.search(r'\\d{4}', value)\n",
                "        if year:\n",
                "            year = year.group()\n",
                "        e_date = f\"{year}-{end}\"\n",
                "        return e_date\n",
                "\n",
                "    @validator(\"ac_category\", pre=True)\n",
                "    def convert_ac_category(cls, value):\n",
                "        print('convert_ac_category')\n",
                "        print(value)\n",
                "        if value == 'ci_demand_forecast_date':\n",
                "            return 1\n",
                "        if value == 'ci_public_subscription_date':\n",
                "            return 2\n",
                "        if value == 'ci_refund_date':\n",
                "            return 3\n",
                "        if value == 'ci_payment_date':\n",
                "            return 4\n",
                "        else:\n",
                "            return 0\n",
                "\n",
                "    @validator(\"ac_category_name\", pre=True)\n",
                "    def convert_ac_category_name(cls, value):\n",
                "        print('convert_ac_category_name')\n",
                "        print(value)\n",
                "        if value == 'ci_demand_forecast_date':\n",
                "            return '수요예측일'\n",
                "        if value == 'ci_public_subscription_date':\n",
                "            return '공모일'\n",
                "        if value == 'ci_refund_date':\n",
                "            return '환불일'\n",
                "        if value == 'ci_payment_date':\n",
                "            return '납입일'\n",
                "        else:\n",
                "            return ''\n",
                "\n",
                "    @validator(\"ac_company_name\", pre=True)\n",
                "    def convert_ac_company_name(cls, value):\n",
                "        print('convert_ac_company_name')\n",
                "        print(value)\n",
                "        return value\n",
                "\n",
                "class CalendarSchema(BaseModel):\n",
                "    ac_idx: int = Field(..., title=\"AC Idx\", description=\"AC Idx\")\n",
                "    ci_idx: int = Field(..., title=\"CI Idx\", description=\"CI Idx\")\n",
                "\n",
                "    class Config:\n",
                "        orm_mode = True\n",
                "\n",
                "import datetime\n",
                "data = [{'ci_demand_forecast_date': '2021.12.15 ~ 12.16', 'ac_company_name': '래몽래인'}, {'ci_public_subscription_date': '2021.12.20 ~ 12.21', 'ac_company_name': '래몽래인'}, {'ci_refund_date': '2021.12.23', 'ac_company_name': '래몽래인'}, {'ci_payment_date': '2021.12.23', 'ac_company_name': '래몽래인'}]\n",
                "calendars=[CalendarCreateSchema(**calendar).dict() for calendar in data]\n",
                "calendars\n",
                "\n"
            ]
        },
        {
            "cell_type": "code",
            "execution_count": 11,
            "metadata": {},
            "outputs": [],
            "source": [
                "import datetime\n",
                "data = [{'ci_demand_forecast_date': '2021.12.15 ~ 12.16', 'ci_company_name': '래몽래인'}, {'ci_public_subscription_date': '2021.12.20 ~ 12.21', 'ci_company_name': '래몽래인'}, {'ci_refund_date': '2021.12.23', 'ci_company_name': '래몽래인'}, {'ci_payment_date': '2021.12.23', 'ci_company_name': '래몽래인'}]"
            ]
        },
        {
            "cell_type": "code",
            "execution_count": 12,
            "metadata": {},
            "outputs": [
                {
                    "data": {
                        "text/plain": [
                            "[{'ac_sdate': '',\n",
                            "  'ac_edate': '',\n",
                            "  'ac_category_name': '',\n",
                            "  'ac_category': '',\n",
                            "  'ac_company_name': '',\n",
                            "  'ac_vitalize': 1,\n",
                            "  'ac_datetime': datetime.datetime(2023, 1, 25, 1, 27, 43, 36918)},\n",
                            " {'ac_sdate': '',\n",
                            "  'ac_edate': '',\n",
                            "  'ac_category_name': '',\n",
                            "  'ac_category': '',\n",
                            "  'ac_company_name': '',\n",
                            "  'ac_vitalize': 1,\n",
                            "  'ac_datetime': datetime.datetime(2023, 1, 25, 1, 27, 43, 36918)},\n",
                            " {'ac_sdate': '',\n",
                            "  'ac_edate': '',\n",
                            "  'ac_category_name': '',\n",
                            "  'ac_category': '',\n",
                            "  'ac_company_name': '',\n",
                            "  'ac_vitalize': 1,\n",
                            "  'ac_datetime': datetime.datetime(2023, 1, 25, 1, 27, 43, 36918)},\n",
                            " {'ac_sdate': '',\n",
                            "  'ac_edate': '',\n",
                            "  'ac_category_name': '',\n",
                            "  'ac_category': '',\n",
                            "  'ac_company_name': '',\n",
                            "  'ac_vitalize': 1,\n",
                            "  'ac_datetime': datetime.datetime(2023, 1, 25, 1, 27, 43, 36918)}]"
                        ]
                    },
                    "execution_count": 12,
                    "metadata": {},
                    "output_type": "execute_result"
                }
            ],
            "source": [
                "calendars=[CalendarCreateSchema(**calendar).dict() for calendar in data]\n",
                "calendars"
            ]
        },
        {
            "cell_type": "code",
            "execution_count": null,
            "metadata": {},
            "outputs": [],
            "source": [
                "ac_sdate\n",
                "ac_edate\n",
                "ac_category_name\n",
                "ac_category\n",
                "ac_company_name\n",
                "ac_vitalize\n",
                "ac_datetime"
            ]
        }
    ],
    "metadata": {
        "kernelspec": {
            "display_name": "venv",
            "language": "python",
            "name": "python3"
        },
        "language_info": {
            "codemirror_mode": {
                "name": "ipython",
                "version": 3
            },
            "file_extension": ".py",
            "mimetype": "text/x-python",
            "name": "python",
            "nbconvert_exporter": "python",
            "pygments_lexer": "ipython3",
            "version": "3.10.8 (main, Nov 19 2022, 08:36:07) [Clang 13.0.0 (clang-1300.0.27.3)]"
        },
        "orig_nbformat": 4,
        "vscode": {
            "interpreter": {
                "hash": "e5073fc93e61038b0b73217a9a8e82e0f4ca32acd50158f7f99bffe9f2ad5f66"
            }
        }
    },
    "nbformat": 4,
    "nbformat_minor": 2
}
