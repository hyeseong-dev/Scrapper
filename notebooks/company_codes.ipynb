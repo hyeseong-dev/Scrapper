{
 "cells": [
  {
   "cell_type": "code",
   "execution_count": 3,
   "metadata": {},
   "outputs": [],
   "source": [
    "import sys\n",
    "from pathlib import Path\n",
    "project_path = str(Path.cwd().parent)\n",
    "sys.path.append(project_path)\n",
    "\n",
    "\n",
    "import pymysql\n",
    "from sqlalchemy import create_engine\n",
    "from sqlalchemy.orm import sessionmaker\n",
    "\n",
    "import sys\n",
    "import requests\n",
    "from bs4 import BeautifulSoup\n",
    "from tabs import tab1, tab2, tab3, tab4, tab5\n",
    "from agents import get_user_agents\n",
    "\n",
    "from schemas.general import GeneralCreateSchema\n",
    "from schemas.subscriber import SubscriberCreateSchema\n",
    "from schemas.financial import FinancialCreateSchema\n",
    "from schemas.shareholder import ShareholderCreateSchema\n",
    "from schemas.prediction import PredictionCreateSchema\n",
    "\n",
    "from db import models\n",
    "from sqlalchemy import and_ \n",
    "from settings import DB_URL, DELISTING\n",
    "from utilities.session import session_scope\n",
    "import re\n",
    "from datetime import datetime\n",
    "\n",
    "import requests\n",
    "from bs4 import BeautifulSoup\n",
    "\n",
    "from agents import get_user_agents\n",
    "from utilities.time_measure import timeit\n",
    "\n",
    "\n",
    "# @timeit\n",
    "def scrape_company_codes(year=2021):\n",
    "\n",
    "    current_year = datetime.now().year\n",
    "    codes = []\n",
    "    for year in range(year, current_year + 1):\n",
    "        # '리스트가 없습니다.'라는 colspan=9 속성이 안나올때까지 순회하게 됨.\n",
    "        page_data = None\n",
    "        page = 1\n",
    "        # while page_data is None:\n",
    "        url = \"http://www.ipostock.co.kr/sub03/ipo02.asp?str4=2022&str5=all\"\n",
    "        # url = f\"http://www.ipostock.co.kr/sub03/ipo02.asp?str4={year}&str5=all&page={page}\"\n",
    "        # page += 1\n",
    "\n",
    "        from utilities import request_helper\n",
    "\n",
    "        req = request_helper.requests_retry_session().get(url, timeout=5)\n",
    "        soup = BeautifulSoup(req.content, \"lxml\", )\n",
    "\n",
    "        page_data = soup.select_one('td[colspan=\"9\"]')\n",
    "        # if page_data is not None:\n",
    "        #     break\n",
    "\n",
    "        a_tags = soup.select('a[href*=\"view_pg\"][class=\"\"]')\n",
    "\n",
    "        for tag in a_tags:\n",
    "            href = tag[\"href\"]\n",
    "            code = re.search(\"code=(.+)&\", href).group(1)\n",
    "            codes.append(code)\n",
    "    return codes\n",
    "\n"
   ]
  },
  {
   "cell_type": "code",
   "execution_count": 4,
   "metadata": {},
   "outputs": [],
   "source": [
    "url = \"http://www.ipostock.co.kr/sub03/ipo02.asp?str4=2022&str5=all\"\n",
    "# url = f\"http://www.ipostock.co.kr/sub03/ipo02.asp?str4={year}&str5=all&page={page}\"\n",
    "# page += 1\n",
    "\n",
    "from utilities import request_helper\n",
    "\n",
    "req = request_helper.requests_retry_session().get(url, timeout=5)\n",
    "soup = BeautifulSoup(req.content, \"lxml\", )"
   ]
  },
  {
   "cell_type": "code",
   "execution_count": 9,
   "metadata": {},
   "outputs": [
    {
     "name": "stdout",
     "output_type": "stream",
     "text": [
      "유안타제12호스팩\n",
      "자람테크놀로지\n",
      "유안타제11호스팩\n",
      "바이오인프라\n",
      "미래에셋드림스팩1호\n",
      "밀리의서재\n",
      "['B202210113', 'B202206162', 'B202210112', 'B202209191', 'B202208181', 'B202209071', 'B202209073', 'B202206021', 'B202208021', 'B202207181', 'B202205271', 'B202205121', 'B202210131', 'B202205161']\n"
     ]
    }
   ],
   "source": [
    "import bs4\n",
    "\n",
    "# ㄷㅏㅇ ㅇㅣㄹ ㄱㅗㅇㅁㅗ ㅊㅓㄹㅎㅗㅣㄹㅡㄹ ㅈㅓㅇㅂㅗㄹㅡㄹ ㅇㅗㅎㅜㅇㅔ ㅇㅗㄹㄹㅣㄱㅔ ㄷㅗㅣㄴㅡㄴㄷㅔ ㅇㅗㅈㅓㄴㅇㅔ ㄱㅣㅇㅓㅂ ㅈㅓㅇㅂㅗㄹㅡㄹ ㅂㅕㄴㄱㅕㅇㅎㅏㄱㅗ ㅇㅗㅎㅜㅇㅔ ㄱㅗㅇㅁㅗ ㅊㅓㄹㅎㅗㅣㅅㅣ?\n",
    "table = soup.select_one('#print > table >  tr:nth-child(4) > td > table >  tr:nth-child(3) > td > table >  tr:nth-child(4) > td > table')\n",
    "codes = []\n",
    "for idx, tr in enumerate(table, 1):\n",
    "    if isinstance(tr, bs4.element.Tag):\n",
    "        td = tr.find('td', {'width': '120'})\n",
    "        if td is not None:\n",
    "            delisting = td.text.strip()\n",
    "            td_name = tr.find('td', {'width': '*'})\n",
    "            if delisting == '공모철회':\n",
    "                if td_name is not None:\n",
    "                    a_tag = td_name.select_one('table > tr > td:nth-child(2) > a')\n",
    "                    company_name = td_name.select_one('table > tr > td:nth-child(2) > a > font').text.strip().replace('.', '')\n",
    "                    print(company_name)\n",
    "            else:\n",
    "                a_tag = td_name.select_one('a[href*=\"view_pg\"][class=\"\"]')\n",
    "                href = a_tag.get('href')\n",
    "                code = re.search(\"code=(.+)&\", href).group(1)\n",
    "                codes.append(code)\n",
    "print(codes)"
   ]
  },
  {
   "cell_type": "code",
   "execution_count": null,
   "metadata": {},
   "outputs": [],
   "source": []
  },
  {
   "cell_type": "code",
   "execution_count": null,
   "metadata": {},
   "outputs": [],
   "source": []
  },
  {
   "cell_type": "code",
   "execution_count": 40,
   "metadata": {},
   "outputs": [],
   "source": [
    "\n",
    "from sqlalchemy import create_engine\n",
    "from sqlalchemy.orm import sessionmaker\n",
    "from db import models\n",
    "from utilities.session import session_scope\n",
    "\n",
    "\n",
    "ci_name = '래몽래인'\n",
    "DELISTING = '공모철회'\n",
    "\n",
    "engine = create_engine(DB_URL, pool_recycle=3600)\n",
    "Session = sessionmaker(bind=engine)\n",
    "\n",
    "with session_scope(Session) as session:\n",
    "    result = session.query(models.CompanyInfoGeneral).all()\n",
    "    for row in result:\n",
    "        print(row)\n",
    "\n"
   ]
  },
  {
   "cell_type": "code",
   "execution_count": 117,
   "metadata": {},
   "outputs": [
    {
     "name": "stdout",
     "output_type": "stream",
     "text": [
      "<class 'int'> 2\n",
      "<class 'int'> 2\n"
     ]
    }
   ],
   "source": [
    "DELISTING = 'a'\n",
    "with session_scope(Session) as session:\n",
    "    result = session.query(models.CompanyInfoGeneral)\\\n",
    "        .filter(and_(models.CompanyInfoGeneral.ci_name == ci_name, models.CompanyInfoGeneral.ci_demand_forecast_date != DELISTING))\\\n",
    "        .update({models.CompanyInfoGeneral.ci_demand_forecast_date: DELISTING})\n",
    "    print(type(result), resul   t)\n",
    "    \n",
    "    session.commit()\n",
    "    print(type(result), result)"
   ]
  },
  {
   "cell_type": "code",
   "execution_count": 37,
   "metadata": {},
   "outputs": [
    {
     "name": "stdout",
     "output_type": "stream",
     "text": [
      "래몽래인\n",
      "None\n"
     ]
    }
   ],
   "source": [
    "ci_name = '래몽래인'\n",
    "with session_scope(Session) as session:\n",
    "    print(ci_name)\n",
    "    result = session.query(models.CompanyInfoGeneral)\\\n",
    "        .filter(\n",
    "            and_(\n",
    "                models.CompanyInfoGeneral.ci_name == ci_name,\n",
    "                # models.CompanyInfoGeneral.ci_demand_forecast_date != DELISTING,\n",
    "            )\n",
    "        )\\\n",
    "        .first()\n",
    "    print(result)\n"
   ]
  },
  {
   "cell_type": "code",
   "execution_count": null,
   "metadata": {},
   "outputs": [],
   "source": [
    "import pymysql\n",
    "from settings import DB_URL\n",
    "# Connect to the database\n",
    "_url = DB_URL\n",
    "url = _url.replace('test_trustinv', 'trustinv').replace('mariadb+', '')\n",
    "\n",
    "conn = pymysql.connect(\n",
    "    host='ipolistingdb.civxowlytnik.ap-northeast-2.rds.amazonaws.com',\n",
    "    port=3306,\n",
    "    user='admin',\n",
    "    password='dara100400!',\n",
    "    db='trustinv'\n",
    ")\n",
    "\n",
    "# Create a cursor\n",
    "cur = conn.cursor()\n",
    "\n",
    "# Execute the query\n",
    "cur.execute(\"SELECT * FROM company_info_general\")\n",
    "\n",
    "# Fetch all the results\n",
    "result = cur.fetchall()\n",
    "\n",
    "# Iterate through the results and print them\n",
    "for row in result:\n",
    "    print(row)\n",
    "\n",
    "# Close the cursor\n",
    "cur.close()\n",
    "\n",
    "# Close the connection\n",
    "conn.close()"
   ]
  },
  {
   "cell_type": "code",
   "execution_count": null,
   "metadata": {},
   "outputs": [],
   "source": []
  }
 ],
 "metadata": {
  "kernelspec": {
   "display_name": "venv",
   "language": "python",
   "name": "python3"
  },
  "language_info": {
   "codemirror_mode": {
    "name": "ipython",
    "version": 3
   },
   "file_extension": ".py",
   "mimetype": "text/x-python",
   "name": "python",
   "nbconvert_exporter": "python",
   "pygments_lexer": "ipython3",
   "version": "3.10.0"
  },
  "orig_nbformat": 4,
  "vscode": {
   "interpreter": {
    "hash": "d63fa3fafd5b69ac1a17fd48e1518475e26bb632168b41c435fb31415c5f1576"
   }
  }
 },
 "nbformat": 4,
 "nbformat_minor": 2
}
