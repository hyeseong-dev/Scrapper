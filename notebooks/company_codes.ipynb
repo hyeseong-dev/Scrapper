{
    "cells": [
        {
            "cell_type": "code",
            "execution_count": 15,
            "metadata": {},
            "outputs": [
                {
                    "ename": "ImportError",
                    "evalue": "cannot import name 'DB_USER' from 'config.settings' (/Users/main/Project/trustventure/crawling/config/settings.py)",
                    "output_type": "error",
                    "traceback": [
                        "\u001b[0;31m---------------------------------------------------------------------------\u001b[0m",
                        "\u001b[0;31mImportError\u001b[0m                               Traceback (most recent call last)",
                        "Cell \u001b[0;32mIn[15], line 15\u001b[0m\n\u001b[1;32m     13\u001b[0m \u001b[39mimport\u001b[39;00m \u001b[39mbs4\u001b[39;00m\n\u001b[1;32m     14\u001b[0m \u001b[39mfrom\u001b[39;00m \u001b[39mbs4\u001b[39;00m \u001b[39mimport\u001b[39;00m BeautifulSoup\n\u001b[0;32m---> 15\u001b[0m \u001b[39mfrom\u001b[39;00m \u001b[39mdb\u001b[39;00m\u001b[39m.\u001b[39;00m\u001b[39mconfig\u001b[39;00m \u001b[39mimport\u001b[39;00m async_session\n\u001b[1;32m     16\u001b[0m \u001b[39mfrom\u001b[39;00m \u001b[39mdb\u001b[39;00m\u001b[39m.\u001b[39;00m\u001b[39mdals\u001b[39;00m\u001b[39m.\u001b[39;00m\u001b[39mcompany_dal\u001b[39;00m \u001b[39mimport\u001b[39;00m Company\n\u001b[1;32m     17\u001b[0m \u001b[39mfrom\u001b[39;00m \u001b[39mutilities\u001b[39;00m\u001b[39m.\u001b[39;00m\u001b[39mtime_measure\u001b[39;00m \u001b[39mimport\u001b[39;00m timeit\n",
                        "File \u001b[0;32m~/Project/trust/bs4_ipo/db/config.py:3\u001b[0m\n\u001b[1;32m      1\u001b[0m \u001b[39mfrom\u001b[39;00m \u001b[39msqlalchemy\u001b[39;00m\u001b[39m.\u001b[39;00m\u001b[39mext\u001b[39;00m\u001b[39m.\u001b[39;00m\u001b[39masyncio\u001b[39;00m \u001b[39mimport\u001b[39;00m create_async_engine, AsyncSession\n\u001b[1;32m      2\u001b[0m \u001b[39mfrom\u001b[39;00m \u001b[39msqlalchemy\u001b[39;00m\u001b[39m.\u001b[39;00m\u001b[39morm\u001b[39;00m \u001b[39mimport\u001b[39;00m sessionmaker\n\u001b[0;32m----> 3\u001b[0m \u001b[39mfrom\u001b[39;00m \u001b[39mconfig\u001b[39;00m\u001b[39m.\u001b[39;00m\u001b[39msettings\u001b[39;00m \u001b[39mimport\u001b[39;00m (\n\u001b[1;32m      4\u001b[0m     DB_USER,\n\u001b[1;32m      5\u001b[0m     DB_PASSWORD,\n\u001b[1;32m      6\u001b[0m     DB_HOST,\n\u001b[1;32m      7\u001b[0m     DB_PORT,\n\u001b[1;32m      8\u001b[0m     DB_NAME,\n\u001b[1;32m      9\u001b[0m     )\n\u001b[1;32m     11\u001b[0m DB_URL \u001b[39m=\u001b[39m \u001b[39mf\u001b[39m\u001b[39m\"\u001b[39m\u001b[39mmariadb+pymysql://\u001b[39m\u001b[39m{\u001b[39;00mDB_USER\u001b[39m}\u001b[39;00m\u001b[39m:\u001b[39m\u001b[39m{\u001b[39;00mDB_PASSWORD\u001b[39m}\u001b[39;00m\u001b[39m@\u001b[39m\u001b[39m{\u001b[39;00mDB_HOST\u001b[39m}\u001b[39;00m\u001b[39m:\u001b[39m\u001b[39m{\u001b[39;00mDB_PORT\u001b[39m}\u001b[39;00m\u001b[39m/\u001b[39m\u001b[39m{\u001b[39;00mDB_NAME\u001b[39m}\u001b[39;00m\u001b[39m\"\u001b[39m\n\u001b[1;32m     12\u001b[0m ASYNC_DB_URL \u001b[39m=\u001b[39m \u001b[39mf\u001b[39m\u001b[39m\"\u001b[39m\u001b[39mmysql+aiomysql://\u001b[39m\u001b[39m{\u001b[39;00mDB_USER\u001b[39m}\u001b[39;00m\u001b[39m:\u001b[39m\u001b[39m{\u001b[39;00mDB_PASSWORD\u001b[39m}\u001b[39;00m\u001b[39m@\u001b[39m\u001b[39m{\u001b[39;00mDB_HOST\u001b[39m}\u001b[39;00m\u001b[39m:\u001b[39m\u001b[39m{\u001b[39;00mDB_PORT\u001b[39m}\u001b[39;00m\u001b[39m/\u001b[39m\u001b[39m{\u001b[39;00mDB_NAME\u001b[39m}\u001b[39;00m\u001b[39m\"\u001b[39m\n",
                        "\u001b[0;31mImportError\u001b[0m: cannot import name 'DB_USER' from 'config.settings' (/Users/main/Project/trustventure/crawling/config/settings.py)"
                    ]
                }
            ],
            "source": [
                "import sys\n",
                "from pathlib import Path\n",
                "project_path = str(Path.cwd().parent)\n",
                "sys.path.append(project_path)\n",
                "\n",
                "import aiohttp\n",
                "import asyncio\n",
                "%autoawait asyncio\n",
                "\n",
                "import re\n",
                "from datetime import datetime\n",
                "\n",
                "import bs4\n",
                "from bs4 import BeautifulSoup\n",
                "from db.database import async_session\n",
                "from db.dals.company_dal import Company\n",
                "from utilities.time_measure import timeit\n",
                "from apps.ipo.agents import get_user_agents\n",
                "from config.config_log import logging\n",
                "\n",
                "logger = logging.getLogger(\"info-logger\")\n",
                "\n",
                "\n",
                "async def delist(session, company_name):\n",
                "\n",
                "    instance = Company(session)\n",
                "    read, ci_demand_forcast_date = instance.read(company_name)\n",
                "\n",
                "    # DB에는 공모철회가 없지만 공모철회로 데이터를 바꾸어야함.\n",
                "    if read and ci_demand_forcast_date != \"공모철회\":\n",
                "        delisted = instance.delist(company_name)\n",
                "        if delisted:\n",
                "            logger.info(\"공모철회 한 회사 : {company_name}\")\n",
                "\n",
                "\n",
                "async def get_name_n_code(td_name):\n",
                "    try:\n",
                "        a_tag = td_name.select_one('a[href*=\"view_pg\"][class=\"\"]')\n",
                "        href = a_tag[\"href\"]\n",
                "        company_code = re.search(\"code=(.+)&\", href).group(1)\n",
                "        company_name = a_tag.select_one(\"font\").text.strip().replace(\".\", \"\")\n",
                "        return company_code, company_name\n",
                "    except KeyError as err:\n",
                "        logger.error(err)\n",
                "    except AttributeError as err:\n",
                "        logger.error(err)\n",
                "\n",
                "\n",
                "async def get_years(year):\n",
                "    current_year = datetime.now().year\n",
                "    for k in range(year, current_year + 1):\n",
                "        yield k\n",
                "\n",
                "\n",
                "from async_retrying import retry\n",
                "\n",
                "\n",
                "@retry(attempts=100)\n",
                "async def scrape_company_codes(year=2021):\n",
                "    ipo_companies = []\n",
                "    delisted_companies = []\n",
                "    header = await get_user_agents()\n",
                "    async for year in get_years(year):\n",
                "        logger.debug(\"연도\", year)\n",
                "        page_data = None\n",
                "        page = 1\n",
                "        while page_data is None:\n",
                "            ipo_companies_in_page = 0\n",
                "            delisted_companies_in_page = 0\n",
                "            url = f\"http://www.ipostock.co.kr/sub03/ipo02.asp?str4={year}&str5=all&page={page}\"\n",
                "            logger.debug(f\"page: {page}, url: {url}\")\n",
                "            page += 1\n",
                "\n",
                "            try:\n",
                "                async with aiohttp.ClientSession() as session:\n",
                "                    async with session.get(url, headers=header) as resp:\n",
                "                        soup = BeautifulSoup(await resp.text(), \"lxml\")\n",
                "\n",
                "            except (aiohttp.ClientError, asyncio.TimeoutError) as e:\n",
                "                logger.error(\"Request failed, retrying in 5 seconds...\")\n",
                "                logger.error(e)\n",
                "                await asyncio.sleep(1)\n",
                "\n",
                "            page_data = soup.select_one('td[colspan=\"9\"]')\n",
                "            if page_data is not None:\n",
                "                logger.debug(\"페이지에 기업이 없습니다. 다음 연도로 전환됩니다\")\n",
                "                break\n",
                "            table = soup.select_one(\n",
                "                \"#print > table >  tr:nth-child(4) > td > table >  tr:nth-child(3) > td > table >  tr:nth-child(4) > td > table\"\n",
                "            )\n"
            ]
        },
        {
            "cell_type": "code",
            "execution_count": 2,
            "metadata": {},
            "outputs": [],
            "source": [
                "url = \"http://www.ipostock.co.kr/sub03/ipo02.asp?str4=2022&str5=all\"\n",
                "# url = f\"http://www.ipostock.co.kr/sub03/ipo02.asp?str4={year}&str5=all&page={page}\"\n",
                "# page += 1\n",
                "\n",
                "from utilities import request_helper\n",
                "\n",
                "req = requests.get(url)\n",
                "soup = BeautifulSoup(req.content, \"lxml\", )"
            ]
        },
        {
            "cell_type": "code",
            "execution_count": 10,
            "metadata": {},
            "outputs": [
                {
                    "name": "stdout",
                    "output_type": "stream",
                    "text": [
                        "/Users/main/Project/trust/bs4_ipo/notebooks\n"
                    ]
                }
            ],
            "source": [
                "!pwd"
            ]
        },
        {
            "cell_type": "code",
            "execution_count": null,
            "metadata": {},
            "outputs": [],
            "source": []
        },
        {
            "cell_type": "code",
            "execution_count": null,
            "metadata": {},
            "outputs": [],
            "source": []
        },
        {
            "cell_type": "code",
            "execution_count": null,
            "metadata": {},
            "outputs": [],
            "source": []
        },
        {
            "cell_type": "code",
            "execution_count": null,
            "metadata": {},
            "outputs": [],
            "source": []
        },
        {
            "cell_type": "code",
            "execution_count": 8,
            "metadata": {},
            "outputs": [
                {
                    "name": "stdout",
                    "output_type": "stream",
                    "text": [
                        "Collecting async_retrying\n",
                        "  Downloading async_retrying-0.2.2.tar.gz (3.1 kB)\n",
                        "  Preparing metadata (setup.py) ... \u001b[?25ldone\n",
                        "\u001b[?25hRequirement already satisfied: async_timeout in /Users/main/Project/trust/bs4_ipo/venv/lib/python3.10/site-packages (from async_retrying) (4.0.2)\n",
                        "Building wheels for collected packages: async_retrying\n",
                        "  Building wheel for async_retrying (setup.py) ... \u001b[?25ldone\n",
                        "\u001b[?25h  Created wheel for async_retrying: filename=async_retrying-0.2.2-py3-none-any.whl size=3141 sha256=c645efcef635f5933e110c7ccc3281975f7ffe90b094e673dc043965d8f349c0\n",
                        "  Stored in directory: /Users/main/Library/Caches/pip/wheels/8a/e0/ac/1fc65add82fce6968b0a28a9b7a274385e839467d1a56dd160\n",
                        "Successfully built async_retrying\n",
                        "Installing collected packages: async_retrying\n",
                        "Successfully installed async_retrying-0.2.2\n",
                        "\n",
                        "\u001b[1m[\u001b[0m\u001b[34;49mnotice\u001b[0m\u001b[1;39;49m]\u001b[0m\u001b[39;49m A new release of pip available: \u001b[0m\u001b[31;49m22.2.2\u001b[0m\u001b[39;49m -> \u001b[0m\u001b[32;49m23.0\u001b[0m\n",
                        "\u001b[1m[\u001b[0m\u001b[34;49mnotice\u001b[0m\u001b[1;39;49m]\u001b[0m\u001b[39;49m To update, run: \u001b[0m\u001b[32;49mpip install --upgrade pip\u001b[0m\n"
                    ]
                }
            ],
            "source": [
                "!pip install async_retrying"
            ]
        },
        {
            "cell_type": "code",
            "execution_count": 28,
            "metadata": {},
            "outputs": [
                {
                    "name": "stdout",
                    "output_type": "stream",
                    "text": [
                        "<class 'datetime.datetime'>\n",
                        "2023-09-02 00:00:00\n",
                        "2023.02.01\n"
                    ]
                },
                {
                    "data": {
                        "text/plain": [
                            "False"
                        ]
                    },
                    "execution_count": 28,
                    "metadata": {},
                    "output_type": "execute_result"
                }
            ],
            "source": [
                "from datetime import datetime\n",
                "\n",
                "year = 2023\n",
                "datetime_str = f'{year}.09.02'\n",
                "# datetime_str = f'09.02'\n",
                "\n",
                "datetime_object = datetime.strptime(datetime_str, '%Y.%m.%d') + datetime.timedelta(days=1)\n",
                "\n",
                "print(type(datetime_object))\n",
                "print(datetime_object)  # printed in default format\n",
                "print(datetime.now().strftime('%Y.%m.%d'))\n",
                "datetime_object == datetime.now().strftime('%m.%d')"
            ]
        },
        {
            "cell_type": "code",
            "execution_count": 22,
            "metadata": {},
            "outputs": [
                {
                    "ename": "TypeError",
                    "evalue": "'>' not supported between instances of 'NoneType' and 'datetime.datetime'",
                    "output_type": "error",
                    "traceback": [
                        "\u001b[0;31m---------------------------------------------------------------------------\u001b[0m",
                        "\u001b[0;31mTypeError\u001b[0m                                 Traceback (most recent call last)",
                        "Cell \u001b[0;32mIn[22], line 1\u001b[0m\n\u001b[0;32m----> 1\u001b[0m \u001b[39mNone\u001b[39;49;00m \u001b[39m>\u001b[39;49m datetime\u001b[39m.\u001b[39;49mnow()\n",
                        "\u001b[0;31mTypeError\u001b[0m: '>' not supported between instances of 'NoneType' and 'datetime.datetime'"
                    ]
                }
            ],
            "source": [
                "None > datetime.now()"
            ]
        },
        {
            "cell_type": "code",
            "execution_count": null,
            "metadata": {},
            "outputs": [],
            "source": []
        }
    ],
    "metadata": {
        "kernelspec": {
            "display_name": "venv",
            "language": "python",
            "name": "python3"
        },
        "language_info": {
            "codemirror_mode": {
                "name": "ipython",
                "version": 3
            },
            "file_extension": ".py",
            "mimetype": "text/x-python",
            "name": "python",
            "nbconvert_exporter": "python",
            "pygments_lexer": "ipython3",
            "version": "3.10.8"
        },
        "orig_nbformat": 4,
        "vscode": {
            "interpreter": {
                "hash": "e5073fc93e61038b0b73217a9a8e82e0f4ca32acd50158f7f99bffe9f2ad5f66"
            }
        }
    },
    "nbformat": 4,
    "nbformat_minor": 2
}