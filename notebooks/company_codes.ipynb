{
    "cells": [
        {
            "cell_type": "code",
            "execution_count": 3,
            "metadata": {},
            "outputs": [],
            "source": [
                "import sys\n",
                "from pathlib import Path\n",
                "project_path = str(Path.cwd().parent)\n",
                "sys.path.append(project_path)\n",
                "\n",
                "\n",
                "import pymysql\n",
                "from sqlalchemy import create_engine\n",
                "from sqlalchemy.orm import sessionmaker\n",
                "\n",
                "import sys\n",
                "import requests\n",
                "from bs4 import BeautifulSoup\n",
                "from tabs import tab1, tab2, tab3, tab4, tab5\n",
                "from agents import get_user_agents\n",
                "\n",
                "from schemas.general import GeneralCreateSchema\n",
                "from schemas.subscriber import SubscriberCreateSchema\n",
                "from schemas.financial import FinancialCreateSchema\n",
                "from schemas.shareholder import ShareholderCreateSchema\n",
                "from schemas.prediction import PredictionCreateSchema\n",
                "\n",
                "from db import models\n",
                "from sqlalchemy import and_ \n",
                "from settings import DB_URL, DELISTING\n",
                "from utilities.session import session_scope\n",
                "import re\n",
                "from datetime import datetime\n",
                "\n",
                "import requests\n",
                "from bs4 import BeautifulSoup\n",
                "\n",
                "from agents import get_user_agents\n",
                "from utilities.time_measure import timeit\n",
                "\n",
                "\n",
                "# @timeit\n",
                "def scrape_company_codes(year=2021):\n",
                "\n",
                "    current_year = datetime.now().year\n",
                "    codes = []\n",
                "    for year in range(year, current_year + 1):\n",
                "        # '리스트가 없습니다.'라는 colspan=9 속성이 안나올때까지 순회하게 됨.\n",
                "        page_data = None\n",
                "        page = 1\n",
                "        # while page_data is None:\n",
                "        url = \"http://www.ipostock.co.kr/sub03/ipo02.asp?str4=2022&str5=all\"\n",
                "        # url = f\"http://www.ipostock.co.kr/sub03/ipo02.asp?str4={year}&str5=all&page={page}\"\n",
                "        # page += 1\n",
                "\n",
                "    \n",
                "\n",
                "        req = requests.get(url)\n",
                "        soup = BeautifulSoup(req.content, \"lxml\", )\n",
                "\n",
                "        page_data = soup.select_one('td[colspan=\"9\"]')\n",
                "        # if page_data is not None:\n",
                "        #     break\n",
                "\n",
                "        a_tags = soup.select('a[href*=\"view_pg\"][class=\"\"]')\n",
                "\n",
                "        for tag in a_tags:\n",
                "            href = tag[\"href\"]\n",
                "            code = re.search(\"code=(.+)&\", href).group(1)\n",
                "            codes.append(code)\n",
                "    return codes\n",
                "\n"
            ]
        },
        {
            "cell_type": "code",
            "execution_count": 4,
            "metadata": {},
            "outputs": [],
            "source": [
                "url = \"http://www.ipostock.co.kr/sub03/ipo02.asp?str4=2022&str5=all\"\n",
                "# url = f\"http://www.ipostock.co.kr/sub03/ipo02.asp?str4={year}&str5=all&page={page}\"\n",
                "# page += 1\n",
                "\n",
                "from utilities import request_helper\n",
                "\n",
                "req = requests.get(url)\n",
                "soup = BeautifulSoup(req.content, \"lxml\", )"
            ]
        },
        {
            "cell_type": "code",
            "execution_count": 9,
            "metadata": {},
            "outputs": [
                {
                    "name": "stdout",
                    "output_type": "stream",
                    "text": [
                        "유안타제12호스팩\n",
                        "자람테크놀로지\n",
                        "유안타제11호스팩\n",
                        "바이오인프라\n",
                        "미래에셋드림스팩1호\n",
                        "밀리의서재\n",
                        "['B202210113', 'B202206162', 'B202210112', 'B202209191', 'B202208181', 'B202209071', 'B202209073', 'B202206021', 'B202208021', 'B202207181', 'B202205271', 'B202205121', 'B202210131', 'B202205161']\n"
                    ]
                }
            ],
            "source": [
                "import bs4\n",
                "from db.dbmanager import DBManager\n",
                "# ㄷㅏㅇ ㅇㅣㄹ ㄱㅗㅇㅁㅗ ㅊㅓㄹㅎㅗㅣㄹㅡㄹ ㅈㅓㅇㅂㅗㄹㅡㄹ ㅇㅗㅎㅜㅇㅔ ㅇㅗㄹㄹㅣㄱㅔ ㄷㅗㅣㄴㅡㄴㄷㅔ ㅇㅗㅈㅓㄴㅇㅔ ㄱㅣㅇㅓㅂ ㅈㅓㅇㅂㅗㄹㅡㄹ ㅂㅕㄴㄱㅕㅇㅎㅏㄱㅗ ㅇㅗㅎㅜㅇㅔ ㄱㅗㅇㅁㅗ ㅊㅓㄹㅎㅗㅣㅅㅣ?\n",
                "table = soup.select_one('#print > table >  tr:nth-child(4) > td > table >  tr:nth-child(3) > td > table >  tr:nth-child(4) > td > table')\n",
                "codes = []\n",
                "delisted_codes = []\n",
                "for idx, tr in enumerate(table, 1):\n",
                "    if isinstance(tr, bs4.element.Tag):\n",
                "        td = tr.find('td', {'width': '120'})\n",
                "        \n",
                "        if td is not None:\n",
                "            delisting = td.text.strip()\n",
                "            td_name = tr.find('td', {'width': '*'})\n",
                "            \n",
                "            if delisting == '공모철회':\n",
                "                if td_name is not None:\n",
                "                    a_tag = td_name.select_one('table > tr > td:nth-child(2) > a[href*=\"view_pg\"][class=\"\"]')\n",
                "                    href = a_tag.get('href')\n",
                "                    code = re.search(\"code=(.+)&\", href).group(1)\n",
                "                    delisted_codes.append(code)\n",
                "                    company_name = td_name.select_one('table > tr > td:nth-child(2) > a > font').text.strip().replace('.', '')\n",
                "                    instance = DBManager()\n",
                "                    if isinstance(company_name, str) and company_name > 2 :\n",
                "                        read, ci_demand_forcast_date = instance.read(company_name)\n",
                "                        \n",
                "                        # DB에는 공모철회가 없지만 공모철회로 데이터를 바꾸어야함.\n",
                "                        if read and ci_demand_forcast_date != '공모철회':\n",
                "                            delisted = instance.delist(company_name)\n",
                "                            # 성공적으로 종목을 공모 철회로 바꾼 경우. \n",
                "                            # 이미 되어 있는 경우 \n",
                "                            continue\n",
                "        \n",
                "                    # 회사 이름으로 쿼리 때려서 2가지로 나뉨\n",
                "                    # 1) 반환 값이 공모철회(0) -> \n",
                "                    # 2) 반환 값이 공모철회(X) -> ci_demand_forecast_? 를 공모철회로 변경\n",
                "            else:\n",
                "                a_tag = td_name.select_one('a[href*=\"view_pg\"][class=\"\"]')\n",
                "                href = a_tag.get('href')\n",
                "                code = re.search(\"code=(.+)&\", href).group(1)\n",
                "                codes.append(code)\n",
                "return codes\n",
                "print(codes)"
            ]
        },
        {
            "cell_type": "code",
            "execution_count": null,
            "metadata": {},
            "outputs": [],
            "source": []
        },
        {
            "cell_type": "code",
            "execution_count": null,
            "metadata": {},
            "outputs": [],
            "source": []
        },
        {
            "cell_type": "code",
            "execution_count": 40,
            "metadata": {},
            "outputs": [],
            "source": [
                "\n",
                "from sqlalchemy import create_engine\n",
                "from sqlalchemy.orm import sessionmaker\n",
                "from db import models\n",
                "from utilities.session import session_scope\n",
                "\n",
                "\n",
                "ci_name = '래몽래인'\n",
                "DELISTING = '공모철회'\n",
                "\n",
                "engine = create_engine(DB_URL, pool_recycle=3600)\n",
                "Session = sessionmaker(bind=engine)\n",
                "\n",
                "with session_scope(Session) as session:\n",
                "    result = session.query(models.CompanyInfoGeneral).all()\n",
                "    for row in result:\n",
                "        print(row)\n",
                "\n"
            ]
        },
        {
            "cell_type": "code",
            "execution_count": 117,
            "metadata": {},
            "outputs": [
                {
                    "name": "stdout",
                    "output_type": "stream",
                    "text": [
                        "<class 'int'> 2\n",
                        "<class 'int'> 2\n"
                    ]
                }
            ],
            "source": [
                "DELISTING = 'a'\n",
                "with session_scope(Session) as session:\n",
                "    result = session.query(models.CompanyInfoGeneral)\\\n",
                "        .filter(and_(models.CompanyInfoGeneral.ci_name == ci_name, models.CompanyInfoGeneral.ci_demand_forecast_date != DELISTING))\\\n",
                "        .update({models.CompanyInfoGeneral.ci_demand_forecast_date: DELISTING})\n",
                "    print(type(result), resul   t)\n",
                "    \n",
                "    session.commit()\n",
                "    print(type(result), result)"
            ]
        },
        {
            "cell_type": "code",
            "execution_count": 37,
            "metadata": {},
            "outputs": [
                {
                    "name": "stdout",
                    "output_type": "stream",
                    "text": [
                        "래몽래인\n",
                        "None\n"
                    ]
                }
            ],
            "source": [
                "ci_name = '래몽래인'\n",
                "with session_scope(Session) as session:\n",
                "    print(ci_name)\n",
                "    result = session.query(models.CompanyInfoGeneral)\\\n",
                "        .filter(\n",
                "            and_(\n",
                "                models.CompanyInfoGeneral.ci_name == ci_name,\n",
                "                # models.CompanyInfoGeneral.ci_demand_forecast_date != DELISTING,\n",
                "            )\n",
                "        )\\\n",
                "        .first()\n",
                "    print(result)\n"
            ]
        },
        {
            "cell_type": "code",
            "execution_count": null,
            "metadata": {},
            "outputs": [],
            "source": []
        },
        {
            "cell_type": "code",
            "execution_count": 4,
            "metadata": {},
            "outputs": [],
            "source": [
                "for i in range(3):\n",
                "    if 1:\n",
                "        pass\n",
                "    else:\n",
                "        print(i)"
            ]
        },
        {
            "cell_type": "code",
            "execution_count": null,
            "metadata": {},
            "outputs": [],
            "source": []
        }
    ],
    "metadata": {
        "kernelspec": {
            "display_name": "venv",
            "language": "python",
            "name": "python3"
        },
        "language_info": {
            "codemirror_mode": {
                "name": "ipython",
                "version": 3
            },
            "file_extension": ".py",
            "mimetype": "text/x-python",
            "name": "python",
            "nbconvert_exporter": "python",
            "pygments_lexer": "ipython3",
            "version": "3.10.8"
        },
        "orig_nbformat": 4,
        "vscode": {
            "interpreter": {
                "hash": "e5073fc93e61038b0b73217a9a8e82e0f4ca32acd50158f7f99bffe9f2ad5f66"
            }
        }
    },
    "nbformat": 4,
    "nbformat_minor": 2
}