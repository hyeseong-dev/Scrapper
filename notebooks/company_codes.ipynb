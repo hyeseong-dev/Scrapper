{
    "cells": [
        {
            "cell_type": "code",
            "execution_count": 24,
            "metadata": {},
            "outputs": [],
            "source": [
                "import sys\n",
                "from pathlib import Path\n",
                "project_path = str(Path.cwd().parent)\n",
                "sys.path.append(project_path)\n",
                "\n",
                "\n",
                "import pymysql\n",
                "from sqlalchemy import create_engine\n",
                "from sqlalchemy.orm import sessionmaker\n",
                "\n",
                "import sys\n",
                "\n",
                "from bs4 import BeautifulSoup\n",
                "from apps.ipo.tabs import tab1, tab2, tab3, tab4, tab5\n",
                "from agents import get_user_agents\n",
                "\n",
                "from schemas.general import GeneralCreateSchema\n",
                "from schemas.subscriber import SubscriberCreateSchema\n",
                "from schemas.financial import FinancialCreateSchema\n",
                "from schemas.shareholder import ShareholderCreateSchema\n",
                "from schemas.prediction import PredictionCreateSchema\n",
                "\n",
                "from db import models\n",
                "from sqlalchemy import and_ \n",
                "import re\n",
                "from datetime import datetime\n",
                "\n",
                "\n",
                "import bs4\n",
                "from bs4 import BeautifulSoup\n",
                "\n",
                "from agents import get_user_agents\n",
                "from utilities.time_measure import timeit\n",
                "\n",
                "\n",
                "# @timeit\n",
                "def scrape_company_codes(year=2021):\n",
                "\n",
                "    current_year = datetime.now().year\n",
                "    codes = []\n",
                "    for year in range(year, current_year + 1):\n",
                "        # '리스트가 없습니다.'라는 colspan=9 속성이 안나올때까지 순회하게 됨.\n",
                "        page_data = None\n",
                "        page = 1\n",
                "        # while page_data is None:\n",
                "        url = \"http://www.ipostock.co.kr/sub03/ipo02.asp?str4=2022&str5=all\"\n",
                "        # url = f\"http://www.ipostock.co.kr/sub03/ipo02.asp?str4={year}&str5=all&page={page}\"\n",
                "        # page += 1\n",
                "\n",
                "    \n",
                "\n",
                "        req = requests.get(url)\n",
                "        soup = BeautifulSoup(req.content, \"lxml\", )\n",
                "\n",
                "        page_data = soup.select_one('td[colspan=\"9\"]')\n",
                "        # if page_data is not None:\n",
                "        #     break\n",
                "\n",
                "        a_tags = soup.select('a[href*=\"view_pg\"][class=\"\"]')\n",
                "\n",
                "        for tag in a_tags:\n",
                "            href = tag[\"href\"]\n",
                "            code = re.search(\"code=(.+)&\", href).group(1)\n",
                "            codes.append(code)\n",
                "    return codes\n",
                "\n"
            ]
        },
        {
            "cell_type": "code",
            "execution_count": 2,
            "metadata": {},
            "outputs": [],
            "source": [
                "url = \"http://www.ipostock.co.kr/sub03/ipo02.asp?str4=2022&str5=all\"\n",
                "# url = f\"http://www.ipostock.co.kr/sub03/ipo02.asp?str4={year}&str5=all&page={page}\"\n",
                "# page += 1\n",
                "\n",
                "from utilities import request_helper\n",
                "\n",
                "req = requests.get(url)\n",
                "soup = BeautifulSoup(req.content, \"lxml\", )"
            ]
        },
        {
            "cell_type": "code",
            "execution_count": 66,
            "metadata": {},
            "outputs": [
                {
                    "name": "stdout",
                    "output_type": "stream",
                    "text": [
                        "252 15\n"
                    ]
                }
            ],
            "source": [
                "from db.dbmanager import DBManager\n",
                "시작년 = 2021\n",
                "마지막년 = 2024\n",
                "total = 0\n",
                "\n",
                "ipo_companies = []\n",
                "delisted_companies = []\n",
                "\n",
                "공모철회회사수 = 0\n",
                "\n",
                "def delist(company_name):\n",
                "\n",
                "    instance = DBManager()\n",
                "    read, ci_demand_forcast_date = instance.read(company_name)\n",
                "\n",
                "    # DB에는 공모철회가 없지만 공모철회로 데이터를 바꾸어야함.\n",
                "    if read and ci_demand_forcast_date != \"공모철회\":\n",
                "        delisted = instance.delist(company_name)\n",
                "\n",
                "\n",
                "def get_name_n_code(td_name):\n",
                "    a_tag = td_name.select_one('a[href*=\"view_pg\"][class=\"\"]')\n",
                "    href = a_tag['href']\n",
                "    company_code = re.search(\"code=(.+)&\", href).group(1)\n",
                "    company_name = a_tag.select_one('font').text.strip().replace('.', '')\n",
                "    return company_code, company_name\n",
                "\n",
                "\n",
                "def get_years(year):\n",
                "    current_year = datetime.now().year\n",
                "    for k in range(year, current_year + 1):\n",
                "        yield k\n",
                "\n",
                "\n",
                "\n",
                "for year in get_years(시작년):\n",
                "    ipo_companies_in_year = 0\n",
                "    delisted_companies_in_year = 0\n",
                "    # print('*'*100)\n",
                "    # print(f\"year: {year}\")\n",
                "    page_data = None\n",
                "    page = 1\n",
                "    while page_data is None:\n",
                "        ipo_companies_in_page = 0\n",
                "        delisted_companies_in_page = 0\n",
                "        url = f\"http://www.ipostock.co.kr/sub03/ipo02.asp?str4={year}&str5=all&page={page}\"\n",
                "        # print(f\"page: {page}, url: {url}\")\n",
                "        page += 1\n",
                "        resp = requests.get(url)\n",
                "        soup = BeautifulSoup(resp.content, \"lxml\")\n",
                "        page_data = soup.select_one('td[colspan=\"9\"]')\n",
                "        if page_data is not None:\n",
                "            break\n",
                "        table = soup.select_one('#print > table >  tr:nth-child(4) > td > table >  tr:nth-child(3) > td > table >  tr:nth-child(4) > td > table')\n",
                "        codes = []\n",
                "        delisted_codes = []\n",
                "        for idx, tr in enumerate(table,1):\n",
                "            if isinstance(tr, bs4.element.Tag):\n",
                "                td = tr.find('td', {'width': '120'})\n",
                "\n",
                "                if td is not None:\n",
                "                    td_name = tr.find('td', {'width': '*'})\n",
                "                    delisting = td.text.strip()\n",
                "                    company_code, company_name = get_name_n_code(td_name)\n",
                "\n",
                "                    if delisting == \"공모철회\":\n",
                "                        company = dict(delistted_company_name=company_name, delistted_company_code=company_code)\n",
                "                        # print(company)\n",
                "                        delisted_companies.append(company)\n",
                "                        delisted_companies_in_page += 1\n",
                "\n",
                "                    else:\n",
                "                        company = dict(ipo_company_name=company_name, ipo_company_code=company_code)\n",
                "                        # print(company)\n",
                "                        ipo_companies.append(company)\n",
                "                        ipo_companies_in_page += 1\n",
                "\n",
                "ipo_companies_codes = [value for ipo_company in ipo_companies for key, value in ipo_company.items() if key == 'ipo_company_code']\n",
                "delisted_companies_codes = [value for delisted_company in delisted_companies for key, value in delisted_company.items() if key == 'delistted_company_code']\n",
                "return ipo_companies_codes + delisted_companies_codes\n",
                "#         print('page당 공모철회 회사수',delisted_companies_in_page)\n",
                "\n",
                "#         print('-'*50)\n",
                "#         delisted_companies_in_year += delisted_companies_in_page\n",
                "#     print(f'{year}연도 공모 철회 회사 수 : {delisted_companies_in_year}')\n",
                "# print(f'총 공모 철회 회사 수 : {len(delisted_companies)}')\n",
                "# print(delisted_companies)\n",
                "#         print('page당 공모 회사수',ipo_companies_in_page)\n",
                "#         print('-'*50)\n",
                "\n",
                "#         ipo_companies_in_year += ipo_companies_in_page\n",
                "#     print(f'{year}연도 공모 회사 수 : {ipo_companies_in_year}')\n",
                "# print(f'총 공모 회사 수 : {len(ipo_companies)}')\n",
                "\n",
                "\n",
                "                    # if delisting == '공모철회':\n",
                "                    #     if td_name is not None:\n",
                "                    #         a_tag = td_name.select_one('table > tr > td:nth-child(2) > a[href*=\"view_pg\"][class=\"\"]')\n",
                "                    #         href = a_tag.get('href')\n",
                "                    #         code = re.search(\"code=(.+)&\", href).group(1)\n",
                "                    #         delisted_codes.append(code)\n",
                "                    #         company_name = td_name.select_one('table > tr > td:nth-child(2) > a > font').text.strip().replace('.', '')\n",
                "                    #         instance = DBManager()\n",
                "                    #         if isinstance(company_name, str) and company_name > 2 :\n",
                "                    #             read, ci_demand_forcast_date = instance.read(company_name)\n",
                "                                \n",
                "                    #             # DB에는 공모철회가 없지만 공모철회로 데이터를 바꾸어야함.\n",
                "                    #             if read and ci_demand_forcast_date != '공모철회':\n",
                "                    #                 delisted = instance.delist(company_name)\n",
                "                    #                 # 성공적으로 종목을 공모 철회로 바꾼 경우. \n",
                "                    #                 # 이미 되어 있는 경우 \n",
                "                    #                 continue\n",
                "                \n",
                "                    #         # 회사 이름으로 쿼리 때려서 2가지로 나뉨\n",
                "                    #         # 1) 반환 값이 공모철회(0) -> \n",
                "                    #         # 2) 반환 값이 공모철회(X) -> ci_demand_forecast_? 를 공모철회로 변경\n",
                "                    # else:\n",
                "                    #     a_tag = td_name.select_one('a[href*=\"view_pg\"][class=\"\"]')\n",
                "                    #     href = a_tag.get('href')\n",
                "                    #     code = re.search(\"code=(.+)&\", href).group(1)\n",
                "                    #     codes.append(code)\n",
                "        # return codes"
            ]
        },
        {
            "cell_type": "code",
            "execution_count": 67,
            "metadata": {},
            "outputs": [
                {
                    "data": {
                        "text/plain": [
                            "[1, 2]"
                        ]
                    },
                    "execution_count": 67,
                    "metadata": {},
                    "output_type": "execute_result"
                }
            ],
            "source": [
                "[1]+[2]"
            ]
        },
        {
            "cell_type": "code",
            "execution_count": null,
            "metadata": {},
            "outputs": [],
            "source": []
        },
        {
            "cell_type": "code",
            "execution_count": null,
            "metadata": {},
            "outputs": [],
            "source": []
        },
        {
            "cell_type": "code",
            "execution_count": 61,
            "metadata": {},
            "outputs": [
                {
                    "data": {
                        "text/plain": [
                            "[1, 2, 1, 2, 1, 2, 1, 2]"
                        ]
                    },
                    "execution_count": 61,
                    "metadata": {},
                    "output_type": "execute_result"
                }
            ],
            "source": [
                "a = [{'a':1, \"b\":2}, {'a':1, \"b\":2},{'a':1, \"b\":2},{'a':1, \"b\":2},]\n",
                "result = []\n",
                "for i in a:\n",
                "    for value in i.values():\n",
                "        result.append(value)\n",
                "result        "
            ]
        },
        {
            "cell_type": "code",
            "execution_count": 63,
            "metadata": {},
            "outputs": [
                {
                    "data": {
                        "text/plain": [
                            "[1, 2, 1, 2, 1, 2, 1, 2]"
                        ]
                    },
                    "execution_count": 63,
                    "metadata": {},
                    "output_type": "execute_result"
                }
            ],
            "source": [
                "[value for i in a for value in i.values()]"
            ]
        },
        {
            "cell_type": "code",
            "execution_count": null,
            "metadata": {},
            "outputs": [],
            "source": []
        }
    ],
    "metadata": {
        "kernelspec": {
            "display_name": "venv",
            "language": "python",
            "name": "python3"
        },
        "language_info": {
            "codemirror_mode": {
                "name": "ipython",
                "version": 3
            },
            "file_extension": ".py",
            "mimetype": "text/x-python",
            "name": "python",
            "nbconvert_exporter": "python",
            "pygments_lexer": "ipython3",
            "version": "3.10.0"
        },
        "orig_nbformat": 4,
        "vscode": {
            "interpreter": {
                "hash": "d63fa3fafd5b69ac1a17fd48e1518475e26bb632168b41c435fb31415c5f1576"
            }
        }
    },
    "nbformat": 4,
    "nbformat_minor": 2
}
