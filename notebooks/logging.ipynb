{
 "cells": [
  {
   "cell_type": "code",
   "execution_count": 18,
   "metadata": {},
   "outputs": [
    {
     "ename": "ValueError",
     "evalue": "Unable to configure handler 'loggers'",
     "output_type": "error",
     "traceback": [
      "\u001b[0;31m---------------------------------------------------------------------------\u001b[0m",
      "\u001b[0;31mAttributeError\u001b[0m                            Traceback (most recent call last)",
      "File \u001b[0;32m~/.pyenv/versions/3.10.0/lib/python3.10/logging/config.py:565\u001b[0m, in \u001b[0;36mDictConfigurator.configure\u001b[0;34m(self)\u001b[0m\n\u001b[1;32m    564\u001b[0m \u001b[39mtry\u001b[39;00m:\n\u001b[0;32m--> 565\u001b[0m     handler \u001b[39m=\u001b[39m \u001b[39mself\u001b[39;49m\u001b[39m.\u001b[39;49mconfigure_handler(handlers[name])\n\u001b[1;32m    566\u001b[0m     handler\u001b[39m.\u001b[39mname \u001b[39m=\u001b[39m name\n",
      "File \u001b[0;32m~/.pyenv/versions/3.10.0/lib/python3.10/logging/config.py:723\u001b[0m, in \u001b[0;36mDictConfigurator.configure_handler\u001b[0;34m(self, config)\u001b[0m\n\u001b[1;32m    722\u001b[0m cname \u001b[39m=\u001b[39m config\u001b[39m.\u001b[39mpop(\u001b[39m'\u001b[39m\u001b[39mclass\u001b[39m\u001b[39m'\u001b[39m)\n\u001b[0;32m--> 723\u001b[0m klass \u001b[39m=\u001b[39m \u001b[39mself\u001b[39;49m\u001b[39m.\u001b[39;49mresolve(cname)\n\u001b[1;32m    724\u001b[0m \u001b[39m#Special case for handler which refers to another handler\u001b[39;00m\n",
      "File \u001b[0;32m~/.pyenv/versions/3.10.0/lib/python3.10/logging/config.py:383\u001b[0m, in \u001b[0;36mBaseConfigurator.resolve\u001b[0;34m(self, s)\u001b[0m\n\u001b[1;32m    379\u001b[0m \u001b[39m\u001b[39m\u001b[39m\"\"\"\u001b[39;00m\n\u001b[1;32m    380\u001b[0m \u001b[39mResolve strings to objects using standard import and attribute\u001b[39;00m\n\u001b[1;32m    381\u001b[0m \u001b[39msyntax.\u001b[39;00m\n\u001b[1;32m    382\u001b[0m \u001b[39m\"\"\"\u001b[39;00m\n\u001b[0;32m--> 383\u001b[0m name \u001b[39m=\u001b[39m s\u001b[39m.\u001b[39;49msplit(\u001b[39m'\u001b[39m\u001b[39m.\u001b[39m\u001b[39m'\u001b[39m)\n\u001b[1;32m    384\u001b[0m used \u001b[39m=\u001b[39m name\u001b[39m.\u001b[39mpop(\u001b[39m0\u001b[39m)\n",
      "\u001b[0;31mAttributeError\u001b[0m: 'NoneType' object has no attribute 'split'",
      "\nThe above exception was the direct cause of the following exception:\n",
      "\u001b[0;31mValueError\u001b[0m                                Traceback (most recent call last)",
      "Cell \u001b[0;32mIn[18], line 32\u001b[0m\n\u001b[1;32m     28\u001b[0m     os\u001b[39m.\u001b[39mmakedirs(log_path, exist_ok\u001b[39m=\u001b[39m\u001b[39mTrue\u001b[39;00m)\n\u001b[1;32m     29\u001b[0m     \u001b[39mreturn\u001b[39;00m log_path\n\u001b[0;32m---> 32\u001b[0m \u001b[39mclass\u001b[39;00m \u001b[39mBaseConfig\u001b[39;00m:\n\u001b[1;32m     33\u001b[0m     \u001b[39m# BASE_DIR: pathlib.Path = pathlib.Path(__file__).parent.parent\u001b[39;00m\n\u001b[1;32m     34\u001b[0m     settings_path: pathlib\u001b[39m.\u001b[39mPath \u001b[39m=\u001b[39m pathlib\u001b[39m.\u001b[39mPath(get_path())\n\u001b[1;32m     35\u001b[0m     project_path \u001b[39m=\u001b[39m \u001b[39mstr\u001b[39m(settings_path\u001b[39m.\u001b[39mparent)\n",
      "Cell \u001b[0;32mIn[18], line 106\u001b[0m, in \u001b[0;36mBaseConfig\u001b[0;34m()\u001b[0m\n\u001b[1;32m     45\u001b[0m handler_form \u001b[39m=\u001b[39m {\n\u001b[1;32m     46\u001b[0m     \u001b[39m\"\u001b[39m\u001b[39mclass\u001b[39m\u001b[39m\"\u001b[39m: \u001b[39m\"\u001b[39m\u001b[39mlogging.handlers.RotatingFileHandler\u001b[39m\u001b[39m\"\u001b[39m,\n\u001b[1;32m     47\u001b[0m     \u001b[39m\"\u001b[39m\u001b[39mmode\u001b[39m\u001b[39m\"\u001b[39m: \u001b[39m\"\u001b[39m\u001b[39ma\u001b[39m\u001b[39m\"\u001b[39m,\n\u001b[1;32m     48\u001b[0m     \u001b[39m\"\u001b[39m\u001b[39mmaxBytes\u001b[39m\u001b[39m\"\u001b[39m: \u001b[39m1048576\u001b[39m,\n\u001b[1;32m     49\u001b[0m     \u001b[39m\"\u001b[39m\u001b[39mbackupCount\u001b[39m\u001b[39m\"\u001b[39m: \u001b[39m10\u001b[39m,\n\u001b[1;32m     50\u001b[0m }\n\u001b[1;32m     51\u001b[0m log_config \u001b[39m=\u001b[39m {\n\u001b[1;32m     52\u001b[0m     \u001b[39m\"\u001b[39m\u001b[39mversion\u001b[39m\u001b[39m\"\u001b[39m: \u001b[39m1\u001b[39m,\n\u001b[1;32m     53\u001b[0m     \u001b[39m\"\u001b[39m\u001b[39mdisable_existing_loggers\u001b[39m\u001b[39m\"\u001b[39m: \u001b[39mFalse\u001b[39;00m,\n\u001b[0;32m   (...)\u001b[0m\n\u001b[1;32m    104\u001b[0m }\n\u001b[1;32m    105\u001b[0m }\n\u001b[0;32m--> 106\u001b[0m logging\u001b[39m.\u001b[39;49mconfig\u001b[39m.\u001b[39;49mdictConfig(log_config)\n",
      "File \u001b[0;32m~/.pyenv/versions/3.10.0/lib/python3.10/logging/config.py:810\u001b[0m, in \u001b[0;36mdictConfig\u001b[0;34m(config)\u001b[0m\n\u001b[1;32m    808\u001b[0m \u001b[39mdef\u001b[39;00m \u001b[39mdictConfig\u001b[39m(config):\n\u001b[1;32m    809\u001b[0m \u001b[39m    \u001b[39m\u001b[39m\"\"\"Configure logging using a dictionary.\"\"\"\u001b[39;00m\n\u001b[0;32m--> 810\u001b[0m     dictConfigClass(config)\u001b[39m.\u001b[39;49mconfigure()\n",
      "File \u001b[0;32m~/.pyenv/versions/3.10.0/lib/python3.10/logging/config.py:572\u001b[0m, in \u001b[0;36mDictConfigurator.configure\u001b[0;34m(self)\u001b[0m\n\u001b[1;32m    570\u001b[0m             deferred\u001b[39m.\u001b[39mappend(name)\n\u001b[1;32m    571\u001b[0m         \u001b[39melse\u001b[39;00m:\n\u001b[0;32m--> 572\u001b[0m             \u001b[39mraise\u001b[39;00m \u001b[39mValueError\u001b[39;00m(\u001b[39m'\u001b[39m\u001b[39mUnable to configure handler \u001b[39m\u001b[39m'\u001b[39m\n\u001b[1;32m    573\u001b[0m                              \u001b[39m'\u001b[39m\u001b[39m%r\u001b[39;00m\u001b[39m'\u001b[39m \u001b[39m%\u001b[39m name) \u001b[39mfrom\u001b[39;00m \u001b[39me\u001b[39;00m\n\u001b[1;32m    575\u001b[0m \u001b[39m# Now do any that were deferred\u001b[39;00m\n\u001b[1;32m    576\u001b[0m \u001b[39mfor\u001b[39;00m name \u001b[39min\u001b[39;00m deferred:\n",
      "\u001b[0;31mValueError\u001b[0m: Unable to configure handler 'loggers'"
     ]
    }
   ],
   "source": [
    "import sys\n",
    "from pathlib import Path\n",
    "project_path = str(Path.cwd().parent)\n",
    "sys.path.append(project_path)\n",
    "\n",
    "import os\n",
    "from collections import namedtuple\n",
    "\n",
    "from pydantic import BaseSettings\n",
    "import logging.config\n",
    "\n",
    "import os\n",
    "import pathlib\n",
    "from functools import lru_cache\n",
    "\n",
    "\n",
    "def get_path(arg=None):\n",
    "    if arg is not None:\n",
    "        path = arg\n",
    "    else:\n",
    "        path = os.getcwd()\n",
    "    path = os.path.abspath(path)\n",
    "    return path\n",
    "\n",
    "# Logging\n",
    "def log_path(project_path, log_dirname=\"logs\"):\n",
    "    log_path = os.path.join(project_path, log_dirname)\n",
    "    os.makedirs(log_path, exist_ok=True)\n",
    "    return log_path\n",
    "\n",
    "\n",
    "class BaseConfig:\n",
    "    # BASE_DIR: pathlib.Path = pathlib.Path(__file__).parent.parent\n",
    "    settings_path: pathlib.Path = pathlib.Path(get_path())\n",
    "    project_path = str(settings_path.parent)\n",
    "\n",
    "\n",
    "    # log_dir_path\n",
    "    log_path = os.path.join(project_path, \"logs\")\n",
    "\n",
    "    formatter_form = {\n",
    "        \"format\": \"%(levelname)s | %(asctime)s | %(module)s | %(lineno)d | %(message)s\",\n",
    "        \"datefmt\": \"%Y-%m-%d %H:%M:%S\",\n",
    "    }\n",
    "    handler_form = {\n",
    "        \"class\": \"logging.handlers.RotatingFileHandler\",\n",
    "        \"mode\": \"a\",\n",
    "        \"maxBytes\": 1048576,\n",
    "        \"backupCount\": 10,\n",
    "    }\n",
    "    log_config = {\n",
    "        \"version\": 1,\n",
    "        \"disable_existing_loggers\": False,\n",
    "        \"formatters\": {\n",
    "            \"default\": {\"format\": formatter_form[\"format\"], \"datefmt\": \"%Y-%m-%d %H:%M:%S\"},\n",
    "            \"debug\": formatter_form,\n",
    "            \"info\": formatter_form,\n",
    "            \"error\": formatter_form,\n",
    "        },\n",
    "        \"handlers\": {\n",
    "            \"console\": {\"class\": \"logging.StreamHandler\", \"level\": \"DEBUG\", \"formatter\": \"default\"},\n",
    "            \"file_debug\": {\n",
    "                \"level\": \"DEBUG\",\n",
    "                \"formatter\": \"debug\",\n",
    "                \"filename\": f\"{log_path}/debug.log\",\n",
    "                **handler_form,\n",
    "            },\n",
    "            \"file_info\": {\n",
    "                \"level\": \"INFO\",\n",
    "                \"formatter\": \"info\",\n",
    "                \"filename\": f\"{log_path}/info.log\",\n",
    "                **handler_form,\n",
    "            },\n",
    "            \"file_error\": {\n",
    "                \"level\": \"ERROR\",\n",
    "                \"formatter\": \"error\",\n",
    "                \"filename\": f\"{log_path}/error.log\",\n",
    "                **handler_form,\n",
    "            },\n",
    "            \"slack\": {\n",
    "            #     \"class\": \"slack_logger.SlackHandler\",\n",
    "            #     \"url\": SLACK_WEB_HOOK_URL,\n",
    "            #     \"level\": \"INFO\",\n",
    "            #     \"formatter\": \"info\",\n",
    "            # },\n",
    "        },\n",
    "        \"loggers\": {\n",
    "            \"debug-logger\": {\n",
    "                \"level\": \"DEBUG\",\n",
    "                \"handlers\": [\"console\", \"file_debug\", \"slack\"],\n",
    "                \"propagate\": True,\n",
    "            },\n",
    "            \"info-logger\": {\n",
    "                \"level\": \"INFO\",\n",
    "                \"handlers\": [\"console\", \"file_info\", \"slack\"],\n",
    "                \"propagate\": True,\n",
    "            },\n",
    "            \"error-logger\": {\n",
    "                \"level\": \"ERROR\",\n",
    "                \"handlers\": [\"console\", \"file_error\", \"slack\"],\n",
    "                \"propagate\": True,\n",
    "            },\n",
    "        },\n",
    "    }\n",
    "    }\n",
    "    logging.config.dictConfig(log_config)\n",
    "\n",
    "\n",
    "class DevelopmentConfig(BaseConfig):\n",
    "    IPO_URL = \"http://www.ipostock.co.kr\"\n",
    "\n",
    "    HOST: str = \"ipolistingdb.civxowlytnik.ap-northeast-2.rds.amazonaws.com\"\n",
    "    USER: str = \"admin\"\n",
    "    PASSWORD: str = \"dara100400!\"\n",
    "    PORT: str = 3306\n",
    "    DB_NAME: str = \"test_trustinv\"\n",
    "\n",
    "    DB_URL = f\"mariadb+pymysql://{USER}:{PASSWORD}@{HOST}:{PORT}/{DB_NAME}\"\n",
    "    ASYNC_DB_URL = f\"mysql+aiomysql://{USER}:{PASSWORD}@{HOST}:{PORT}/{DB_NAME}\"\n",
    "    DELISTING = \"공모철회\"\n",
    "\n",
    "\n",
    "class ProductionConfig(BaseConfig):\n",
    "    pass\n",
    "\n",
    "\n",
    "class TestingConfig(BaseConfig):\n",
    "    pass\n",
    "\n",
    "\n",
    "@lru_cache()\n",
    "def get_settings():\n",
    "    config_cls_dict = {\n",
    "        \"development\": DevelopmentConfig,\n",
    "        \"production\": ProductionConfig,\n",
    "        \"testing\": TestingConfig,\n",
    "    }\n",
    "\n",
    "    config_name = os.environ.get(\"BS4_IPO_CONFIG\", \"development\")\n",
    "    config_cls = config_cls_dict[config_name]\n",
    "    return config_cls()\n",
    "\n",
    "\n",
    "settings = get_settings()\n"
   ]
  },
  {
   "cell_type": "code",
   "execution_count": 3,
   "metadata": {},
   "outputs": [],
   "source": [
    "import sys\n",
    "from pathlib import Path\n",
    "project_path = str(Path.cwd().parent)\n",
    "sys.path.append(project_path)\n",
    "\n",
    "import os\n",
    "from collections import namedtuple\n",
    "\n",
    "from pydantic import BaseSettings\n",
    "import logging.config\n",
    "\n",
    "import os\n",
    "import pathlib\n",
    "from functools import lru_cache\n",
    "\n",
    "\n",
    "def get_path(arg=None):\n",
    "    if arg is not None:\n",
    "        path = arg\n",
    "    else:\n",
    "        path = os.getcwd()\n",
    "    path = os.path.abspath(path)\n",
    "    return path\n",
    "\n",
    "# Logging\n",
    "def log_path(project_path, log_dirname=\"logs\"):\n",
    "    log_path = os.path.join(project_path, log_dirname)\n",
    "    os.makedirs(log_path, exist_ok=True)\n",
    "    return log_path"
   ]
  },
  {
   "cell_type": "code",
   "execution_count": 5,
   "metadata": {},
   "outputs": [
    {
     "data": {
      "text/plain": [
       "'/Users/trustinvestpartner/Projects/trustinv/bs4_ipo/notebooks/logs'"
      ]
     },
     "execution_count": 5,
     "metadata": {},
     "output_type": "execute_result"
    }
   ],
   "source": [
    "log_path(get_path())"
   ]
  },
  {
   "cell_type": "code",
   "execution_count": 8,
   "metadata": {},
   "outputs": [
    {
     "data": {
      "text/plain": [
       "PosixPath('/Users/trustinvestpartner/Projects/trustinv/bs4_ipo')"
      ]
     },
     "execution_count": 8,
     "metadata": {},
     "output_type": "execute_result"
    }
   ],
   "source": [
    "base_dir: pathlib.Path = pathlib.Path(get_path()).parent\n",
    "base_dir"
   ]
  },
  {
   "cell_type": "code",
   "execution_count": 14,
   "metadata": {},
   "outputs": [
    {
     "data": {
      "text/plain": [
       "PosixPath('/Users/trustinvestpartner/Projects/trustinv/bs4_ipo')"
      ]
     },
     "execution_count": 14,
     "metadata": {},
     "output_type": "execute_result"
    }
   ],
   "source": [
    "settings_path: pathlib.Path = pathlib.Path(get_path())\n",
    "settings_path.parent"
   ]
  },
  {
   "cell_type": "code",
   "execution_count": 17,
   "metadata": {},
   "outputs": [
    {
     "data": {
      "text/plain": [
       "'/Users/trustinvestpartner/Projects/trustinv/bs4_ipo'"
      ]
     },
     "execution_count": 17,
     "metadata": {},
     "output_type": "execute_result"
    }
   ],
   "source": [
    "settings_path: pathlib.Path = pathlib.Path(get_path())\n",
    "project_path = str(settings_path.parent)\n",
    "project_path"
   ]
  },
  {
   "cell_type": "code",
   "execution_count": 19,
   "metadata": {},
   "outputs": [
    {
     "data": {
      "text/plain": [
       "PosixPath('/Users/trustinvestpartner/Projects/trustinv/bs4_ipo/logs')"
      ]
     },
     "execution_count": 19,
     "metadata": {},
     "output_type": "execute_result"
    }
   ],
   "source": [
    "settings_path: pathlib.Path = pathlib.Path(get_path())\n",
    "project_path = str(settings_path.parent)\n",
    "\n",
    "# log_dir_path\n",
    "log_path = settings_path.parent / \"logs\"\n",
    "log_path"
   ]
  },
  {
   "cell_type": "code",
   "execution_count": 21,
   "metadata": {},
   "outputs": [
    {
     "data": {
      "text/plain": [
       "'/Users/trustinvestpartner/Projects/trustinv/bs4_ipo/notebooks'"
      ]
     },
     "execution_count": 21,
     "metadata": {},
     "output_type": "execute_result"
    }
   ],
   "source": [
    "str(settings_path)"
   ]
  },
  {
   "cell_type": "code",
   "execution_count": null,
   "metadata": {},
   "outputs": [],
   "source": []
  }
 ],
 "metadata": {
  "kernelspec": {
   "display_name": "venv",
   "language": "python",
   "name": "python3"
  },
  "language_info": {
   "codemirror_mode": {
    "name": "ipython",
    "version": 3
   },
   "file_extension": ".py",
   "mimetype": "text/x-python",
   "name": "python",
   "nbconvert_exporter": "python",
   "pygments_lexer": "ipython3",
   "version": "3.10.0"
  },
  "orig_nbformat": 4,
  "vscode": {
   "interpreter": {
    "hash": "d63fa3fafd5b69ac1a17fd48e1518475e26bb632168b41c435fb31415c5f1576"
   }
  }
 },
 "nbformat": 4,
 "nbformat_minor": 2
}
