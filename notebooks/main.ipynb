{
    "cells": [
        {
            "cell_type": "code",
            "execution_count": 1,
            "id": "8f4e0e2c-3ca3-4399-9dc3-2981605556c5",
            "metadata": {
                "tags": []
            },
            "outputs": [],
            "source": [
                "import sys\n",
                "from pathlib import Path\n",
                "project_path = str(Path.cwd().parent)\n",
                "sys.path.append(project_path)"
            ]
        },
        {
            "cell_type": "code",
            "execution_count": 8,
            "id": "3ee42df9-111d-4bbd-a345-2cc3b1d42761",
            "metadata": {
                "tags": []
            },
            "outputs": [
                {
                    "name": "stdout",
                    "output_type": "stream",
                    "text": [
                        "1 B202010131\n"
                    ]
                }
            ],
            "source": [
                "import sys\n",
                "\n",
                "from bs4 import BeautifulSoup\n",
                "from apps.tabs import tab1, tab2, tab3, tab4, tab5\n",
                "from agents import get_user_agents\n",
                "\n",
                "from schemas.general import GeneralCreateSchema\n",
                "from schemas.subscriber import SubscriberCreateSchema\n",
                "from schemas.financial import FinancialCreateSchema\n",
                "from schemas.shareholder import ShareholderCreateSchema\n",
                "from schemas.prediction import PredictionCreateSchema\n",
                "\n",
                "if __name__ == \"__main__\":\n",
                "    import a_tags\n",
                "    import settings\n",
                "    import company_code\n",
                "    import time\n",
                "\n",
                "    count = 0\n",
                "    url = f\"{settings.IPO_URL}/view_pg\"\n",
                "    # company_codes = company_code.scrape_company_codes()\n",
                "\n",
                "    # for code in company_codes:\n",
                "    for code in [\"B202010131\"]:\n",
                "        general_result = {}\n",
                "\n",
                "        categories = a_tags.scrape_categories(url, code)\n",
                "\n",
                "        for idx, category in enumerate(categories,1):\n",
                "            if category == 1:\n",
                "                result = tab1.scrape_ipostock(code)\n",
                "                if result:\n",
                "                    general_result.update(result)\n",
                "            if category == 2:\n",
                "                result, shareholder_results = tab2.scrape_ipostock(code)\n",
                "                if result:\n",
                "                    general_result.update(result)\n",
                "\n",
                "            if category == 3:\n",
                "                financial_results = tab3.scrape_ipostock(code)\n",
                "            if category == 4:\n",
                "                result, subscriber_results = tab4.scrape_ipostock(code)\n",
                "                if result:\n",
                "                    general_result.update(result)\n",
                "            if category == 5:\n",
                "                prediction_results, general_result5 = tab5.scrape_ipostock(code)\n",
                "                if general_result5:\n",
                "                    general_result.update(general_result5)\n",
                "                \n",
                "        general = GeneralCreateSchema(**general_result)\n",
                "        shareholders = [\n",
                "            ShareholderCreateSchema(**shareholder) for shareholder in shareholder_results or []\n",
                "        ]\n",
                "        subscribers = [\n",
                "            SubscriberCreateSchema(**subscriber) for subscriber in subscriber_results or []\n",
                "        ]\n",
                "        financials = [FinancialCreateSchema(**financial) for financial in financial_results or []]\n",
                "        predictions = [\n",
                "            PredictionCreateSchema(**prediction) for prediction in prediction_results or []\n",
                "        ]\n",
                "        count += 1\n",
                "        print(count, code)"
            ]
        },
        {
            "cell_type": "code",
            "execution_count": 3,
            "id": "11a04c68-408a-4d0e-af8e-71203f3b100a",
            "metadata": {},
            "outputs": [],
            "source": [
                "from db import models\n",
                "\n",
                "# MariaDB\n",
                "DEV_DB = {\n",
                "    \"HOST\": \"ipolistingdb.civxowlytnik.ap-northeast-2.rds.amazonaws.com\",\n",
                "    \"USER\": \"admin\",\n",
                "    \"PASSWORD\": \"dara100400!\",\n",
                "    \"PORT\": int(\"3306\"),\n",
                "    \"DB_NAME\": \"trustinv\",\n",
                "}\n",
                "DB_URL = f'mariadb+pymysql://{DEV_DB[\"USER\"]}:{DEV_DB[\"PASSWORD\"]}@{DEV_DB[\"HOST\"]}:{DEV_DB[\"PORT\"]}/{DEV_DB[\"DB_NAME\"]}'\n"
            ]
        },
        {
            "cell_type": "code",
            "execution_count": 4,
            "id": "ade6fa07",
            "metadata": {},
            "outputs": [],
            "source": [
                "from contextlib import contextmanager\n",
                "\n",
                "\n",
                "@contextmanager\n",
                "def session_scope(Session):\n",
                "    \"\"\"Provide a transactional scope around a series of operations.\"\"\"\n",
                "    session = Session()\n",
                "    try:\n",
                "        yield session\n",
                "        session.commit()\n",
                "    except Exception:\n",
                "        session.rollback()\n",
                "        raise\n",
                "    finally:\n",
                "        session.close()\n"
            ]
        },
        {
            "cell_type": "code",
            "execution_count": 5,
            "id": "eb329c5f-9a65-47db-9388-cae692506043",
            "metadata": {
                "tags": []
            },
            "outputs": [],
            "source": [
                "import pymysql\n",
                "from sqlalchemy import create_engine\n",
                "from sqlalchemy.orm import sessionmaker"
            ]
        },
        {
            "cell_type": "code",
            "execution_count": 10,
            "id": "1c55d5f5-ef0a-47dd-b3c5-6e6db2a5ff0d",
            "metadata": {},
            "outputs": [
                {
                    "name": "stdout",
                    "output_type": "stream",
                    "text": [
                        "래몽래인\n"
                    ]
                },
                {
                    "ename": "AttributeError",
                    "evalue": "'NoneType' object has no attribute 'ci_name'",
                    "output_type": "error",
                    "traceback": [
                        "\u001b[0;31m---------------------------------------------------------------------------\u001b[0m",
                        "\u001b[0;31mAttributeError\u001b[0m                            Traceback (most recent call last)",
                        "Cell \u001b[0;32mIn[10], line 57\u001b[0m\n\u001b[1;32m     54\u001b[0m         \u001b[39mpass\u001b[39;00m\n\u001b[1;32m     56\u001b[0m session \u001b[39m=\u001b[39m DBManager()\n\u001b[0;32m---> 57\u001b[0m session\u001b[39m.\u001b[39;49mcreate_n_update()\n",
                        "Cell \u001b[0;32mIn[10], line 26\u001b[0m, in \u001b[0;36mDBManager.create_n_update\u001b[0;34m(self)\u001b[0m\n\u001b[1;32m     20\u001b[0m \u001b[39m# Check if a company with the same name already exists in the database\u001b[39;00m\n\u001b[1;32m     21\u001b[0m existing_company \u001b[39m=\u001b[39m (\n\u001b[1;32m     22\u001b[0m     session\u001b[39m.\u001b[39mquery(models\u001b[39m.\u001b[39mCompanyInfoGeneral)\n\u001b[1;32m     23\u001b[0m     \u001b[39m.\u001b[39mfilter_by(ci_name\u001b[39m=\u001b[39mgeneral\u001b[39m.\u001b[39mci_name)\n\u001b[1;32m     24\u001b[0m     \u001b[39m.\u001b[39mfirst()\n\u001b[1;32m     25\u001b[0m )\n\u001b[0;32m---> 26\u001b[0m \u001b[39mprint\u001b[39m(existing_company\u001b[39m.\u001b[39;49mci_name)\n\u001b[1;32m     27\u001b[0m \u001b[39mif\u001b[39;00m existing_company \u001b[39mis\u001b[39;00m \u001b[39mNone\u001b[39;00m:\n\u001b[1;32m     28\u001b[0m     \u001b[39m# Add the new company to the database\u001b[39;00m\n\u001b[1;32m     29\u001b[0m     session\u001b[39m.\u001b[39mbegin_nested()\n",
                        "\u001b[0;31mAttributeError\u001b[0m: 'NoneType' object has no attribute 'ci_name'"
                    ]
                }
            ],
            "source": [
                "class DBManager:\n",
                "    def __init__(self, *args, **kwargs):\n",
                "        self.engine = create_engine(DB_URL)\n",
                "        self.Session = sessionmaker(bind=self.engine)\n",
                "\n",
                "    def delete(self):\n",
                "        # \"상장철회\"일 경우 컬럼 필드 값을 변경함.\n",
                "        pass\n",
                "\n",
                "    def create(self):\n",
                "        pass\n",
                "\n",
                "    def create_n_update(self):\n",
                "        \"\"\"\n",
                "        1) 데이터 존재여부를 확인.\n",
                "            - 상장철회 된 데이터는 가져 올 필요가 없음.\n",
                "        \"\"\"\n",
                "        with session_scope(self.Session) as session:\n",
                "            print(general.ci_name)\n",
                "            # Check if a company with the same name already exists in the database\n",
                "            existing_company = (\n",
                "                session.query(models.CompanyInfoGeneral)\n",
                "                .filter_by(ci_name=general.ci_name)\n",
                "                .first()\n",
                "            )\n",
                "\n",
                "            if existing_company is None:\n",
                "                # Add the new company to the database\n",
                "                session.begin_nested()\n",
                "                company = models.CompanyInfoGeneral(**general.dict())\n",
                "        \n",
                "                shareholder_model_instances = [models.CompanyInfoShareholder(shareholder.dict().update(company=company)) for shareholder in shareholders]\n",
                "                prediction_model_instances = [models.CompanyInfoPrediction(prediction.dict().update(company=company)) for prediction in predictions]\n",
                "                subscriber_model_instances = [models.CompanyInfoSubscriber(subscriber.dict().update(company=company)) for subscriber in subscribers]\n",
                "                financials_model_instances = [models.CompanyInfoFinancial(financial.dict().update(company=company)) for financial in financials]\n",
                "                session.bulk_save_objects([company] + shareholder_model_instances +prediction_model_instances +subscriber_model_instances +financials_model_instances)\n",
                "                session.commit()\n",
                "                # session.add(cig)\n",
                "            \n",
                "            else:\n",
                "                # Check if any of the values have changed\n",
                "                update_required = False\n",
                "                for key, value in existing_company.dict().items():\n",
                "                    if key in [\"_sa_instance_state\", \"id\"] or value == getattr(\n",
                "                        existing_company, key\n",
                "                    ):\n",
                "                        continue\n",
                "                    setattr(existing_company, key, value)\n",
                "                    update_required = True\n",
                "                if update_required:\n",
                "                    session.commit()\n",
                "\n",
                "    def read(self):\n",
                "        pass\n",
                "\n",
                "session = DBManager()\n",
                "session.create_n_update()\n"
            ]
        },
        {
            "cell_type": "code",
            "execution_count": 49,
            "id": "f4afb335",
            "metadata": {},
            "outputs": [
                {
                    "name": "stdout",
                    "output_type": "stream",
                    "text": [
                        "툴젠\n",
                        "None\n",
                        "커밋완료\n"
                    ]
                }
            ],
            "source": [
                "class DBManager:\n",
                "    def __init__(self, *args, **kwargs):\n",
                "        self.engine = create_engine(DB_URL)\n",
                "        self.Session = sessionmaker(bind=self.engine)\n",
                "\n",
                "    def delete(self):\n",
                "        # \"상장철회\"일 경우 컬럼 필드 값을 변경함.\n",
                "        pass\n",
                "\n",
                "    def create(self):\n",
                "        pass\n",
                "\n",
                "    def create_n_update(self):\n",
                "        \"\"\"\n",
                "        1) 데이터 존재여부를 확인.\n",
                "            - 상장철회 된 데이터는 가져 올 필요가 없음.\n",
                "        \"\"\"\n",
                "        with session_scope(self.Session) as session:\n",
                "            print(general.ci_name)\n",
                "            # Check if a company with the same name already exists in the database\n",
                "            existing_company = (\n",
                "                session.query(models.CompanyInfoGeneral)\n",
                "                .filter_by(ci_name=general.ci_name)\n",
                "                .first()\n",
                "            )\n",
                "            print(existing_company)\n",
                "            if existing_company is None:\n",
                "                # Add the new company to the database\n",
                "                session.begin_nested()\n",
                "                company = models.CompanyInfoGeneral(**general.dict())\n",
                "                session.add(company)\n",
                "                session.flush()\n",
                "                session.commit()\n",
                "                session.bulk_insert_mappings(models.CompanyInfoShareholder,[ {**shareholder.dict(), \"ci_idx\":company.ci_idx} for shareholder in shareholders])\n",
                "                session.bulk_insert_mappings(models.CompanyInfoShareholder,[ {**shareholder.dict(), \"ci_idx\":company.ci_idx} for shareholder in shareholders])\n",
                "                session.bulk_insert_mappings(models.CompanyInfoPrediction,[ {**prediction.dict(), \"ci_idx\":company.ci_idx} for prediction in predictions])\n",
                "                session.bulk_insert_mappings(models.CompanyInfoSubscriber,[ {**subscriber.dict(), \"ci_idx\":company.ci_idx} for subscriber in subscribers])\n",
                "                session.bulk_insert_mappings(models.CompanyInfoFinancial,[ {**financial.dict(), 'ci_idx': company.ci_idx} for financial in financials])\n",
                "                session.commit()\n",
                "                print('커밋완료')\n",
                "                # session.add(cig)\n",
                "            \n",
                "            # else:\n",
                "            #     # Check if any of the values have changed\n",
                "            #     update_required = False\n",
                "            #     for key, value in general_instance.dict().items():\n",
                "            #         if key in [\"_sa_instance_state\", \"id\"] or value == getattr(\n",
                "            #             existing_company, key\n",
                "            #         ):\n",
                "            #             continue\n",
                "            #         setattr(existing_company, key, value)\n",
                "            #         update_required = True\n",
                "            #     if update_required:\n",
                "            #         session.commit()\n",
                "\n",
                "    def read(self):\n",
                "        pass\n",
                "\n",
                "session = DBManager()\n",
                "session.create_n_update()\n"
            ]
        },
        {
            "cell_type": "code",
            "execution_count": 11,
            "id": "24587a4d",
            "metadata": {},
            "outputs": [
                {
                    "name": "stdout",
                    "output_type": "stream",
                    "text": [
                        "래몽래인\n",
                        "None\n"
                    ]
                }
            ],
            "source": [
                "class DBManager:\n",
                "    def __init__(self, *args, **kwargs):\n",
                "        self.engine = create_engine(DB_URL)\n",
                "        self.Session = sessionmaker(bind=self.engine)\n",
                "\n",
                "    def read(self, **kwargs):\n",
                "        general = kwargs['general']\n",
                "        shareholders = kwargs['shareholders']\n",
                "        predictions = kwargs['predictions']\n",
                "        subscribers = kwargs['subscribers']\n",
                "        financials = kwargs['financials']\n",
                "\n",
                "        result = session.query(models.CompanyInfoGeneral)\\\n",
                "            .filter(and_(models.CompanyInfoGeneral.ci_name == ci_name, \n",
                "                        models.CompanyInfoGeneral.column_name == value))\\\n",
                "            .all()\n",
                "\n",
                "    def delete(self):\n",
                "        # \"상장철회\"일 경우 컬럼 필드 값을 변경함.\n",
                "        pass\n",
                "\n",
                "    def create(self, **kwargs):\n",
                "        \n",
                "        general = kwargs['general']\n",
                "        shareholders = kwargs['shareholders']\n",
                "        predictions = kwargs['predictions']\n",
                "        subscribers = kwargs['subscribers']\n",
                "        financials = kwargs['financials']\n",
                "\n",
                "        with session_scope(self.Session) as session:\n",
                "            session.begin_nested()\n",
                "            company = models.CompanyInfoGeneral(**general.dict())\n",
                "            session.add(company)\n",
                "            session.flush()\n",
                "            session.commit()\n",
                "            session.bulk_insert_mappings(models.CompanyInfoShareholder,[ {**shareholder.dict(), \"ci_idx\":company.ci_idx} for shareholder in shareholders])\n",
                "            session.bulk_insert_mappings(models.CompanyInfoPrediction,[ {**prediction.dict(), \"ci_idx\":company.ci_idx} for prediction in predictions])\n",
                "            session.bulk_insert_mappings(models.CompanyInfoSubscriber,[ {**subscriber.dict(), \"ci_idx\":company.ci_idx} for subscriber in subscribers])\n",
                "            session.bulk_insert_mappings(models.CompanyInfoFinancial,[ {**financial.dict(), 'ci_idx': company.ci_idx} for financial in financials])\n",
                "            session.commit()\n",
                "            return True\n",
                "\n",
                "    def create_n_update(self, **kwargs):\n",
                "        \"\"\"\n",
                "        1) 데이터 존재여부를 확인.\n",
                "            - 상장철회 된 데이터는 가져 올 필요가 없음.\n",
                "        \"\"\"\n",
                "        general = kwargs.get('general', {})\n",
                "        shareholders = kwargs.get('shareholders', [])\n",
                "        predictions = kwargs.get('predictions', [])\n",
                "        subscribers = kwargs.get('subscribers', [])\n",
                "        financials = kwargs.get('financials', [])\n",
                "        success = self.create(\n",
                "            general=general,\n",
                "            shareholders=shareholders,\n",
                "            predictions=predictions,\n",
                "            subscribers=subscribers,\n",
                "            financials=financials,\n",
                "        )\n",
                "\n",
                "\n",
                "    def read(self):\n",
                "        pass\n",
                "\n",
                "session = DBManager()\n",
                "session.create_n_update()\n"
            ]
        },
        {
            "cell_type": "code",
            "execution_count": 56,
            "id": "f1e3c593",
            "metadata": {},
            "outputs": [
                {
                    "name": "stdout",
                    "output_type": "stream",
                    "text": [
                        "{'ci_category': 1, 'ci_category_name': '최대주주', 'ci_normal_stocks': 2096826, 'ci_first_stocks': 0, 'ci_share_rate': 33.56, 'ci_protection_date': '상장 후 2년', 'ci_datetime': datetime.datetime(2023, 1, 18, 15, 49, 57, 581505)}\n",
                        "{'ci_category': 1, 'ci_category_name': '최대주주', 'ci_normal_stocks': 19817, 'ci_first_stocks': 0, 'ci_share_rate': 0.32, 'ci_protection_date': '상장 후 1년', 'ci_datetime': datetime.datetime(2023, 1, 18, 15, 49, 57, 581505)}\n",
                        "{'ci_category': 1, 'ci_category_name': '벤처금융', 'ci_normal_stocks': 1145000, 'ci_first_stocks': 0, 'ci_share_rate': 18.32, 'ci_protection_date': '상장 후 1개월', 'ci_datetime': datetime.datetime(2023, 1, 18, 15, 49, 57, 581505)}\n",
                        "{'ci_category': 1, 'ci_category_name': '상장주선인의무인수분', 'ci_normal_stocks': 60000, 'ci_first_stocks': 0, 'ci_share_rate': 0.96, 'ci_protection_date': '상장 후 6개월', 'ci_datetime': datetime.datetime(2023, 1, 18, 15, 49, 57, 581505)}\n",
                        "{'ci_category': 2, 'ci_category_name': '벤처금융', 'ci_normal_stocks': 657215, 'ci_first_stocks': 0, 'ci_share_rate': 10.52, 'ci_protection_date': '', 'ci_datetime': datetime.datetime(2023, 1, 18, 15, 49, 57, 581505)}\n",
                        "{'ci_category': 2, 'ci_category_name': '기타주주', 'ci_normal_stocks': 1069661, 'ci_first_stocks': 0, 'ci_share_rate': 17.12, 'ci_protection_date': '', 'ci_datetime': datetime.datetime(2023, 1, 18, 15, 49, 57, 581505)}\n",
                        "{'ci_category': 2, 'ci_category_name': '공모시기관투자자', 'ci_normal_stocks': 900000, 'ci_first_stocks': 0, 'ci_share_rate': 14.4, 'ci_protection_date': '', 'ci_datetime': datetime.datetime(2023, 1, 18, 15, 49, 57, 581505)}\n",
                        "{'ci_category': 2, 'ci_category_name': '공모시일반투자자', 'ci_normal_stocks': 300000, 'ci_first_stocks': 0, 'ci_share_rate': 4.8, 'ci_protection_date': '', 'ci_datetime': datetime.datetime(2023, 1, 18, 15, 49, 57, 581505)}\n"
                    ]
                }
            ],
            "source": [
                "for i in shareholders:\n",
                "    print(i.dict())"
            ]
        },
        {
            "cell_type": "code",
            "execution_count": 54,
            "id": "ba6219c1",
            "metadata": {},
            "outputs": [
                {
                    "data": {
                        "text/plain": [
                            "[PredictionCreateSchema(ci_price='가격미제시 (M.O)', ci_incidence=26, ci_incidence_specific_gravity=1.65, ci_participation=23340000, ci_participation_specific_gravity=1.68, ci_datetime=datetime.datetime(2023, 1, 18, 15, 49, 57, 583269)),\n",
                            " PredictionCreateSchema(ci_price='13,000원 이상', ci_incidence=1549, ci_incidence_specific_gravity=98.29, ci_participation=1366899333, ci_participation_specific_gravity=98.26, ci_datetime=datetime.datetime(2023, 1, 18, 15, 49, 57, 583269)),\n",
                            " PredictionCreateSchema(ci_price='11,500원 이상 13,000원 미만', ci_incidence=1, ci_incidence_specific_gravity=0.06, ci_participation=874000, ci_participation_specific_gravity=0.06, ci_datetime=datetime.datetime(2023, 1, 18, 15, 49, 57, 583269)),\n",
                            " PredictionCreateSchema(ci_price='11,500원 미만', ci_incidence=0, ci_incidence_specific_gravity=0.0, ci_participation=0, ci_participation_specific_gravity=0.0, ci_datetime=datetime.datetime(2023, 1, 18, 15, 49, 57, 583269))]"
                        ]
                    },
                    "execution_count": 54,
                    "metadata": {},
                    "output_type": "execute_result"
                }
            ],
            "source": [
                "predictions#,subscribers,financials,"
            ]
        },
        {
            "cell_type": "code",
            "execution_count": 57,
            "id": "03aa6236",
            "metadata": {},
            "outputs": [
                {
                    "data": {
                        "text/plain": [
                            "GeneralCreateSchema(ci_market_separation='코넥스', ci_progress='', ci_name='툴젠', ci_code='199800', ci_logo='', ci_logo_name='', ci_keyword1='', ci_keyword2='', ci_keyword3='', ci_keyword4='', ci_list_type='', ci_review_c_date='2021.09.14', ci_review_a_date='2021.11.04', ci_face_value=500, ci_ceo='이병화', ci_tel='02-873-8168', ci_homepage='www.toolgen.com', ci_establishment_date='1999/10/08', ci_company_separation='이노비즈&벤처', ci_brn='108-81-18555', ci_settlement_month=12, ci_worker_cnt=66, ci_industries='자연과학 및 공학 연구개발업', ci_important_product='유전자교정 제품 및 서비스', ci_stocks_separation='통일주권', ci_lead_manager='한국투자증권', ci_address='서울특별시 금천구 가산디지털1로 219(가산동) 벽산디지털밸리 6차 1204,1205,1206', ci_turnover=7.13, ci_before_corporate_tax=-148.82, ci_net_profit=-148.82, ci_capital=298.91, ci_largest_shareholder='(주)제넥신', ci_largest_shareholder_rate=0.16, ci_po_expected_price='', ci_po_expected_stocks=0, ci_po_expected_amount='', ci_listing_expected_stocks='7841713', ci_before_po_capital=24.0, ci_before_po_stocks=4988519, ci_after_po_capital=31.0, ci_after_po_stocks=6248519, ci_most_subscription='', ci_comment='', ci_big_ir_plan='', ci_demand_forecast_date='2021/12/15 ~ 12/16', ci_public_subscription_date='2021/12/20 ~ 12/21', ci_refund_date='2021/12/23', ci_payment_date='2021/12/23', ci_listing_date='2021/12/30', ci_appraised_price=0, ci_hope_po_price='11,500~13,000', ci_hope_po_amount='138~156', ci_confirm_po_price=15000, ci_confirm_po_amount=180.0, ci_subscription_warrant_money_rate='개인 50% / 수요예측 참여기관 0%', ci_subscription_competition_rate='2055 : 1', ci_attractiveness='', ci_attractiveness_name='', ci_attractiveness_score=0, ci_public_offering_stocks='1,000,000 주', ci_professional_investor_stock=900000, ci_professional_investor_rate=75, ci_esa_stock=0, ci_esa_rate=0, ci_general_subscriber_stock=300000, ci_general_subscriber_rate=25, ci_overseas_investor_stock=0, ci_overseas_investor_rate=0, ci_noted_items='', ci_noted_items_check='', ci_guidelines='', ci_guidelines_check='', ci_small_ir_plan='', ci_receipt_way='', ci_receipt_place='', ci_ask_tel='', ci_organizer_homepage='', ci_most_quantity=0, ci_unit='', ci_competition_rate='1545:1', ci_current_ratio=0, ci_promise_content='참여건수기준>[15일:18건],[1개월:69건],[3개월:121건],[6개월:70건]', ci_promise_rate=0.0, ci_like=0, ci_dislike=0, ci_vitalization1='Y', ci_vitalization2='Y', ci_vitalization3='Y', ci_vitalization4='Y', ci_vitalization5='Y', ci_vitalization6='Y', ci_demand_schedule='Y', ci_demand_schedule_state='upload', ci_demand_schedule_datetime=datetime.datetime(2023, 1, 18, 15, 49, 57, 551263), ci_demand_result='Y', ci_demand_result_state='upload', ci_demand_result_datetime=datetime.datetime(2023, 1, 18, 15, 49, 57, 551265), ci_public_schedule='Y', ci_public_schedule_state='upload', ci_public_schedule_datetime=datetime.datetime(2023, 1, 18, 15, 49, 57, 551265), ci_datetime=datetime.datetime(2023, 1, 18, 15, 49, 57, 551266))"
                        ]
                    },
                    "execution_count": 57,
                    "metadata": {},
                    "output_type": "execute_result"
                }
            ],
            "source": [
                "general"
            ]
        },
        {
            "cell_type": "code",
            "execution_count": null,
            "id": "40cddcfc",
            "metadata": {},
            "outputs": [],
            "source": []
        }
    ],
    "metadata": {
        "kernelspec": {
            "display_name": "venv",
            "language": "python",
            "name": "python3"
        },
        "language_info": {
            "codemirror_mode": {
                "name": "ipython",
                "version": 3
            },
            "file_extension": ".py",
            "mimetype": "text/x-python",
            "name": "python",
            "nbconvert_exporter": "python",
            "pygments_lexer": "ipython3",
            "version": "3.10.0 (default, Dec 26 2022, 11:20:10) [Clang 14.0.0 (clang-1400.0.29.102)]"
        },
        "vscode": {
            "interpreter": {
                "hash": "d63fa3fafd5b69ac1a17fd48e1518475e26bb632168b41c435fb31415c5f1576"
            }
        }
    },
    "nbformat": 4,
    "nbformat_minor": 5
}