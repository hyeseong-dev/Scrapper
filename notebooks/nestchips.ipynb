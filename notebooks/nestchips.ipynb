{
    "cells": [
        {
            "cell_type": "code",
            "execution_count": 1,
            "metadata": {},
            "outputs": [],
            "source": [
                "import sys\n",
                "from pathlib import Path\n",
                "project_path = str(Path.cwd().parent)\n",
                "sys.path.append(project_path)"
            ]
        },
        {
            "cell_type": "code",
            "execution_count": 38,
            "metadata": {},
            "outputs": [
                {
                    "name": "stdout",
                    "output_type": "stream",
                    "text": [
                        "There are NaN values in the DataFrame.\n"
                    ]
                }
            ],
            "source": [
                "import aiohttp\n",
                "import asyncio\n",
                "import math\n",
                "import pandas as pd\n",
                "\n",
                "code = \"B201203062\"\n",
                "\n",
                "\n",
                "url = f\"http://www.ipostock.co.kr/view_pg/view_03.asp?code={code}\"\n",
                "keys = [\n",
                "    \"ci_category1\",\n",
                "    \"ci_category2\",\n",
                "    \"ci_current_asset\",\n",
                "    \"ci_non_current_asset\",\n",
                "    \"ci_current_liability\",\n",
                "    \"ci_non_current_liability\",\n",
                "    \"ci_capital\",\n",
                "    \"ci_capital_surplus\",\n",
                "    \"ci_earned_surplus\",\n",
                "    \"ci_other_capital_items\",\n",
                "    \"ci_turnover\",\n",
                "    \"ci_business_profits\",\n",
                "    \"ci_net_income\",\n",
                "]\n",
                "async with aiohttp.ClientSession() as session:\n",
    "                        from apps.ipo.agents import get_user_agents
                    async with session.get(url, headers=header) as resp:\n","        data = await resp.text()\n","df = pd.read_html(data)\n",
                "a = df[21].iloc[0,0]\n",
                "if a != '구분':\n",
                "    print(\"There are NaN values in the DataFrame.\")\n",
                "# df1 = df[22]\n",
                "\n",
                "# df1 = df[21]\n",
                "# if df[22].iloc[0, 0] == '구분':\n",
                "#     print(1)"
            ]
        },
        {
            "cell_type": "code",
            "execution_count": 3,
            "metadata": {},
            "outputs": [
                {
                    "ename": "NameError",
                    "evalue": "name 'df' is not defined",
                    "output_type": "error",
                    "traceback": [
                        "\u001b[0;31m---------------------------------------------------------------------------\u001b[0m",
                        "\u001b[0;31mNameError\u001b[0m                                 Traceback (most recent call last)",
                        "Cell \u001b[0;32mIn[3], line 1\u001b[0m\n\u001b[0;32m----> 1\u001b[0m df\n",
                        "\u001b[0;31mNameError\u001b[0m: name 'df' is not defined"
                    ]
                }
            ],
            "source": [
                "df"
            ]
        },
        {
            "cell_type": "code",
            "execution_count": null,
            "metadata": {},
            "outputs": [],
            "source": [
                "\n",
                "        df1 = df[21]\n",
                "        # df1 = df1.dropna(axis=1)\n",
                "        print(df1)\n",
                "        import sys\n",
                "\n",
                "        sys.exit()\n",
                "        df1 = df1[~df1[0].isin([\"자산총계\", \"부채총계\", \"자본총계\"])]\n",
                "        df1 = df1.iloc[:, 1:4]\n",
                "\n",
                "        df_str = df1.iloc[:2, :]\n",
                "        df2 = df1.loc[2:, :].astype(\"float\")\n",
                "        result = pd.concat([df_str, df2])\n",
                "        df3 = result.T.values\n",
                "        temp_data = []\n",
                "        for data_row in df3:\n",
                "            data_instance = {}\n",
                "\n",
                "            for key, value in zip(keys, data_row):\n",
                "                # print(key, value)\n",
                "                if isinstance(value, float):\n",
                "                    if math.isnan(value):\n",
                "                        processed_value = format(value, \".2f\")\n",
                "                    else:\n",
                "                        processed_value = format(value / (10e7), \".2f\")\n",
                "                else:\n",
                "                    processed_value = value\n",
                "                data_instance[key] = processed_value\n",
                "            temp_data.append(data_instance)\n",
                "        return temp_data\n",
                "\n",
                "\n",
                "if __name__ == \"__main__\":\n",
                "\n",
                "    async def main():\n",
                "\n",
                "        code = \"B202111122\"\n",
                "        # code = \"B201203062\"\n",
                "        code = \"B201203062\"\n",
                "\n",
                "        financial_result = await scrape_ipostock(code)\n",
                "\n",
                "        from pprint import pprint as pp\n",
                "\n",
                "        # pp(financial_result)\n",
                "        # pp(financial_result[1])\n",
                "        # pp(financial_result[0])\n",
                "        # pp(financial_result[1])\n",
                "        # pp(financial_result[2])\n",
                "        # from schemas.financial import FinancialCreateSchema\n",
                "\n",
                "        # s = [FinancialCreateSchema(**shareholder) for shareholder in financial_result]\n",
                "        # print(s)\n",
                "\n",
                "    asyncio.run(main())\n"
            ]
        }
    ],
    "metadata": {
        "kernelspec": {
            "display_name": "venv",
            "language": "python",
            "name": "python3"
        },
        "language_info": {
            "codemirror_mode": {
                "name": "ipython",
                "version": 3
            },
            "file_extension": ".py",
            "mimetype": "text/x-python",
            "name": "python",
            "nbconvert_exporter": "python",
            "pygments_lexer": "ipython3",
            "version": "3.10.0"
        },
        "orig_nbformat": 4,
        "vscode": {
            "interpreter": {
                "hash": "d63fa3fafd5b69ac1a17fd48e1518475e26bb632168b41c435fb31415c5f1576"
            }
        }
    },
    "nbformat": 4,
    "nbformat_minor": 2
}