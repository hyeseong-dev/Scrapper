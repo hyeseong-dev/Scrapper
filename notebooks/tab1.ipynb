{
    "cells": [
        {
            "cell_type": "code",
            "execution_count": 14,
            "metadata": {},
            "outputs": [
                {
                    "name": "stdout",
                    "output_type": "stream",
                    "text": [
                        "<b>[공모철회]</b>\n"
                    ]
                }
            ],
            "source": [
                "import sys\n",
                "from pathlib import Path\n",
                "project_path = str(Path.cwd().parent)\n",
                "sys.path.append(project_path)\n",
                "import requests\n",
                "import sys\n",
                "\n",
                "\n",
                "from bs4 import BeautifulSoup\n",
                "from collections import ChainMap\n",
                "\n",
                "\n",
                "def extract_data_from_table1(table):\n",
                "    td = table.select_one(\"tr > td\")\n",
                "    img_src = td.select_one(\"img\")\n",
                "    result = {\n",
                "        \"ci_market_separation\":img_src.get(\"src\", \"\"),\n",
                "        \"ci_name\":td.select_one(\".view_tit\").text,\n",
                "        \"ci_code\":td.select_one(\".view_txt01\").text\n",
                "        }\n",
                "\n",
                "\n",
                "    return result\n",
                "\n",
                "\n",
                "def extract_data_from_table2(table):\n",
                "    keys = [\n",
                "        \"ci_ceo\",\n",
                "        \"ci_establishment_date\",\n",
                "        \"ci_company_separation\",\n",
                "        \"ci_brn\",\n",
                "        \"ci_tel\",\n",
                "        \"ci_homepage\",\n",
                "        \"ci_settlement_month\",\n",
                "        \"ci_worker_cnt\",\n",
                "        \"ci_industries\",\n",
                "        \"ci_important_product\",\n",
                "        \"ci_stocks_separation\",\n",
                "        \"ci_lead_manager\",\n",
                "        \"ci_address\",\n",
                "    ]\n",
                "\n",
                "    result = []\n",
                "    trs = table.select(\"tr\")\n",
                "    for idx_tr, tr in enumerate(trs):\n",
                "        tds = tr.select(\"td.txt\")\n",
                "        result.extend(td.text if td.text is not None else \"\" for td in tds)\n",
                "    result = dict(zip(keys, result))\n",
                "\n",
                "    return result\n",
                "\n",
                "\n",
                "def extract_data_from_table3(table):\n",
                "    keys = [\n",
                "        \"ci_review_c_date\",\n",
                "        \"ci_review_a_date\",\n",
                "        \"ci_turnover\",\n",
                "        \"ci_before_corporate_tax\",\n",
                "        \"ci_net_profit\",\n",
                "        \"ci_capital\",\n",
                "        \"ci_largest_shareholder\",\n",
                "        \"ci_largest_shareholder_rate\",\n",
                "        \"ci_po_expected_price\",\n",
                "        \"ci_public_offering_stocks\",\n",
                "        \"ci_po_expected_amount\",\n",
                "        \"ci_listing_expected_stocks\",\n",
                "    ]\n",
                "    tds = table.select('tr > td[width=\"240\"]')\n",
                "    result = [td.text if td.text is not None else \"\" for td in tds]\n",
                "    return dict(zip(keys, result))\n",
                "\n",
                "\n",
                "def scrape_ipostock(code):\n",
                "\n",
                "    url = f\"http://www.ipostock.co.kr/view_pg/view_01.asp?code={code}\"\n",
                "\n",
                "\n",
                "\n",
                "    req = requests.get(url)\n",
                "    soup = BeautifulSoup(req.content, \"lxml\", from_encoding=\"utf-8\")\n",
                "    table1 = soup.find(\"table\", width=\"550\", style=\"margin:0 auto;\")\n",
                "    result = table1.select_one('td > table > tr:nth-child(1) > td > table > tr > td:nth-child(1) > table > tr:nth-child(1) > td > table > tr > td:nth-child(2) > font > b')\n",
                "    result = soup.select_one('#print > table > tr:nth-child(3) > td > table > tr:nth-child(1) > td > table > tr > td:nth-child(1) > table > tr:nth-child(1) > td > table > tr > td:nth-child(2) > font > b')\n",
                "    # print(result)\n",
                "    table2, table3 = soup.select('table[width=\"780\"][class=\"view_tb\"]')\n",
                "    print(result)\n",
                "\n",
                "    # result1 = extract_data_from_table1(table1)\n",
                "    # result2 = extract_data_from_table2(table2)\n",
                "    # result3 = extract_data_from_table2(table3)\n",
                "\n",
                "    \n",
                "    # result = {\n",
                "    #     **extract_data_from_table1(table1),\n",
                "    #     **extract_data_from_table2(table2),\n",
                "    #     **extract_data_from_table3(table3),\n",
                "    # }\n",
                "    # return result\n",
                "\n",
                "\n",
                "if __name__ == \"__main__\":\n",
                "    # 바이오 노트\n",
                "    code = \"B202206162\"\n",
                "    # 래몽래인\n",
                "    # 밀리의서재\n",
                "    code = \"B202205272\"\n",
                "    result = scrape_ipostock(code)\n",
                "\n",
                "    # from schemas.general import GeneralCreateSchema\n",
                "\n",
                "    # g = GeneralCreateSchema(**result)\n",
                "    # from pprint import pprint as pp\n",
                "\n",
                "    # pp(g.dict())\n"
            ]
        },
        {
            "cell_type": "code",
            "execution_count": 10,
            "metadata": {},
            "outputs": [
                {
                    "name": "stdout",
                    "output_type": "stream",
                    "text": [
                        "None\n"
                    ]
                }
            ],
            "source": [
                "# 바이오 노트\n",
                "code = \"B202206162\"\n",
                "# 래몽래인\n",
                "code = \"B202010131\"\n",
                "url = \"http://www.ipostock.co.kr/view_pg/view_01.asp?code={code}&gmenu=\"\n",
                "result = scrape_ipostock(url)\n",
                "\n",
                "# from schemas.general import GeneralCreateSchema\n",
                "\n",
                "# g = GeneralCreateSchema(**result)\n",
                "# from pprint import pprint as pp\n",
                "\n",
                "# pp(g)\n"
            ]
        },
        {
            "cell_type": "code",
            "execution_count": null,
            "metadata": {},
            "outputs": [],
            "source": []
        },
        {
            "cell_type": "code",
            "execution_count": null,
            "metadata": {},
            "outputs": [],
            "source": []
        }
    ],
    "metadata": {
        "kernelspec": {
            "display_name": "venv",
            "language": "python",
            "name": "python3"
        },
        "language_info": {
            "codemirror_mode": {
                "name": "ipython",
                "version": 3
            },
            "file_extension": ".py",
            "mimetype": "text/x-python",
            "name": "python",
            "nbconvert_exporter": "python",
            "pygments_lexer": "ipython3",
            "version": "3.10.8"
        },
        "vscode": {
            "interpreter": {
                "hash": "e5073fc93e61038b0b73217a9a8e82e0f4ca32acd50158f7f99bffe9f2ad5f66"
            }
        }
    },
    "nbformat": 4,
    "nbformat_minor": 4
}
