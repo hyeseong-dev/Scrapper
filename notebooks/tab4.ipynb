{
    "cells": [
        {
            "cell_type": "code",
            "execution_count": 1,
            "id": "2cd867c0-5c1b-4140-afb8-9ce32f909ff9",
            "metadata": {},
            "outputs": [],
            "source": [
                "import sys\n",
                "from pathlib import Path\n",
                "project_path = str(Path.cwd().parent)\n",
                "sys.path.append(project_path)\n",
                "%autoawait asyncio"
            ]
        },
        {
            "cell_type": "code",
            "execution_count": 12,
            "id": "c3bd1b5e-a5fb-44e9-b620-a186d0307c71",
            "metadata": {},
            "outputs": [
                {
                    "ename": "TypeError",
                    "evalue": "sleep() got an unexpected keyword argument 'loop'",
                    "output_type": "error",
                    "traceback": [
                        "\u001b[0;31m---------------------------------------------------------------------------\u001b[0m",
                        "\u001b[0;31mKeyError\u001b[0m                                  Traceback (most recent call last)",
                        "File \u001b[0;32m~/Projects/trustinv/bs4_ipo/venv/lib/python3.10/site-packages/async_retrying.py:129\u001b[0m, in \u001b[0;36mretry.<locals>.wrapper.<locals>.wrapped\u001b[0;34m(*fn_args, **fn_kwargs)\u001b[0m\n\u001b[1;32m    128\u001b[0m     \u001b[39mif\u001b[39;00m asyncio\u001b[39m.\u001b[39miscoroutinefunction(unpartial(fn)):\n\u001b[0;32m--> 129\u001b[0m         ret \u001b[39m=\u001b[39m \u001b[39myield from\u001b[39;00m ret\n\u001b[1;32m    130\u001b[0m \u001b[39melse\u001b[39;00m:\n",
                        "Cell \u001b[0;32mIn[12], line 79\u001b[0m, in \u001b[0;36mscrape_ipostock\u001b[0;34m(code)\u001b[0m\n\u001b[1;32m     75\u001b[0m table1, table2, table3, table4, \u001b[39m*\u001b[39m_ \u001b[39m=\u001b[39m soup\u001b[39m.\u001b[39mselect(\u001b[39m\"\u001b[39m\u001b[39mtable.view_tb\u001b[39m\u001b[39m\"\u001b[39m)\n\u001b[0;32m---> 79\u001b[0m \u001b[39mawait\u001b[39;00m extract_data_from_table3(table3)\n",
                        "Cell \u001b[0;32mIn[12], line 24\u001b[0m, in \u001b[0;36mextract_data_from_table3\u001b[0;34m(table)\u001b[0m\n\u001b[1;32m     23\u001b[0m ci_public_offering_stocks , \u001b[39m*\u001b[39mrest_trs\u001b[39m=\u001b[39m table\u001b[39m.\u001b[39mselect(\u001b[39m\"\u001b[39m\u001b[39mtr\u001b[39m\u001b[39m\"\u001b[39m)\n\u001b[0;32m---> 24\u001b[0m ci_public_offering_stocks[\u001b[39m0\u001b[39m]\u001b[39m.\u001b[39mselect(\u001b[39m'\u001b[39m\u001b[39mtd:nth-child(2)\u001b[39m\u001b[39m'\u001b[39m)\n\u001b[1;32m     25\u001b[0m keys \u001b[39m=\u001b[39m [\n\u001b[1;32m     26\u001b[0m     \u001b[39m\"\u001b[39m\u001b[39mci_professional_investor_stock\u001b[39m\u001b[39m\"\u001b[39m,\n\u001b[1;32m     27\u001b[0m     \u001b[39m\"\u001b[39m\u001b[39mci_professional_investor_rate\u001b[39m\u001b[39m\"\u001b[39m,\n\u001b[0;32m   (...)\u001b[0m\n\u001b[1;32m     33\u001b[0m     \u001b[39m\"\u001b[39m\u001b[39mci_overseas_investor_rate\u001b[39m\u001b[39m\"\u001b[39m,\n\u001b[1;32m     34\u001b[0m ]\n",
                        "File \u001b[0;32m~/Projects/trustinv/bs4_ipo/venv/lib/python3.10/site-packages/bs4/element.py:1519\u001b[0m, in \u001b[0;36mTag.__getitem__\u001b[0;34m(self, key)\u001b[0m\n\u001b[1;32m   1517\u001b[0m \u001b[39m\u001b[39m\u001b[39m\"\"\"tag[key] returns the value of the 'key' attribute for the Tag,\u001b[39;00m\n\u001b[1;32m   1518\u001b[0m \u001b[39mand throws an exception if it's not there.\"\"\"\u001b[39;00m\n\u001b[0;32m-> 1519\u001b[0m \u001b[39mreturn\u001b[39;00m \u001b[39mself\u001b[39;49m\u001b[39m.\u001b[39;49mattrs[key]\n",
                        "\u001b[0;31mKeyError\u001b[0m: 0",
                        "\nDuring handling of the above exception, another exception occurred:\n",
                        "\u001b[0;31mTypeError\u001b[0m                                 Traceback (most recent call last)",
                        "Cell \u001b[0;32mIn[12], line 85\u001b[0m\n\u001b[1;32m     75\u001b[0m     table1, table2, table3, table4, \u001b[39m*\u001b[39m_ \u001b[39m=\u001b[39m soup\u001b[39m.\u001b[39mselect(\u001b[39m\"\u001b[39m\u001b[39mtable.view_tb\u001b[39m\u001b[39m\"\u001b[39m)\n\u001b[1;32m     79\u001b[0m     \u001b[39mawait\u001b[39;00m extract_data_from_table3(table3)\n\u001b[0;32m---> 85\u001b[0m \u001b[39mawait\u001b[39;00m scrape_ipostock(\u001b[39m1\u001b[39m)\n",
                        "File \u001b[0;32m~/Projects/trustinv/bs4_ipo/venv/lib/python3.10/site-packages/async_retrying.py:192\u001b[0m, in \u001b[0;36mretry.<locals>.wrapper.<locals>.wrapped\u001b[0;34m(*fn_args, **fn_kwargs)\u001b[0m\n\u001b[1;32m    189\u001b[0m attempt \u001b[39m+\u001b[39m\u001b[39m=\u001b[39m \u001b[39m1\u001b[39m\n\u001b[1;32m    191\u001b[0m \u001b[39mif\u001b[39;00m asyncio\u001b[39m.\u001b[39miscoroutinefunction(unpartial(callback)):\n\u001b[0;32m--> 192\u001b[0m     ret \u001b[39m=\u001b[39m \u001b[39myield from\u001b[39;00m ret\n\u001b[1;32m    194\u001b[0m \u001b[39mif\u001b[39;00m ret \u001b[39mis\u001b[39;00m \u001b[39mnot\u001b[39;00m retry:\n\u001b[1;32m    195\u001b[0m     \u001b[39mreturn\u001b[39;00m ret\n",
                        "File \u001b[0;32m~/Projects/trustinv/bs4_ipo/venv/lib/python3.10/site-packages/async_retrying.py:44\u001b[0m, in \u001b[0;36mcallback\u001b[0;34m(attempt, exc, args, kwargs, delay, loop)\u001b[0m\n\u001b[1;32m     41\u001b[0m \u001b[39mif\u001b[39;00m delay \u001b[39mis\u001b[39;00m \u001b[39mNone\u001b[39;00m:\n\u001b[1;32m     42\u001b[0m     delay \u001b[39m=\u001b[39m callback\u001b[39m.\u001b[39mdelay\n\u001b[0;32m---> 44\u001b[0m \u001b[39myield from\u001b[39;00m asyncio\u001b[39m.\u001b[39;49msleep(attempt \u001b[39m*\u001b[39;49m delay, loop\u001b[39m=\u001b[39;49mloop)\n\u001b[1;32m     46\u001b[0m \u001b[39mreturn\u001b[39;00m retry\n",
                        "\u001b[0;31mTypeError\u001b[0m: sleep() got an unexpected keyword argument 'loop'"
                    ]
                }
            ],
            "source": [
                "from typing import List, Dict, Union, Optional\n",
                "import asyncio\n",
                "import aiohttp\n",
                "import re\n",
                "\n",
                "from bs4 import BeautifulSoup\n",
                "from async_retrying import retry\n",
                "\n",
                "from apps.ipo.agents import get_user_agents\n",
                "\n",
                "\n",
                "async def extract_data_from_table3(table: BeautifulSoup) -> Dict[str, str]:\n",
                "    \"\"\"\n",
                "    Extracts data from the third table in the HTML page and returns a dictionary with keys as the data categories\n",
                "    and values as the data for each category.\n",
                "\n",
                "    Parameters:\n",
                "    - table (BeautifulSoup): The BeautifulSoup object representing the third table in the HTML page.\n",
                "\n",
                "    Returns:\n",
                "    - Dict[str, str]: A dictionary containing the extracted data.\n",
                "    \"\"\"\n",
                "    ci_public_offering_stocks , *rest_trs= table.select(\"tr\")\n",
                "    ci_public_offering_stocks[0].select('td:nth-child(2)')\n",
                "    keys = [\n",
                "        \"ci_professional_investor_stock\",\n",
                "        \"ci_professional_investor_rate\",\n",
                "        \"ci_esa_stock\",\n",
                "        \"ci_esa_rate\",\n",
                "        \"ci_general_subscriber_stock\",\n",
                "        \"ci_general_subscriber_rate\",\n",
                "        \"ci_overseas_investor_stock\",\n",
                "        \"ci_overseas_investor_rate\",\n",
                "    ]\n",
                "    result = []\n",
                "    trs = rest_trs.select(\"tr\")[1:]\n",
                "    for tr in rest_trs:\n",
                "        tds = tr.select(\"td\")\n",
                "        for td in tds:\n",
                "            if re.search(r\"\\d+[,\\d+]*\", td.text):\n",
                "                result.append(td.text)\n",
                "    result = {key: value for key, value in zip(keys, result)}\n",
                "    return result\n",
                "\n",
                "\n",
                "\n",
                "\n",
                "\n",
                "@retry(attempts=100)\n",
                "async def scrape_ipostock(code: str) -> Dict[str, Union[str, Dict[str, str], List[Dict[str, str]]]]:\n",
                "    \"\"\"\n",
                "    Scrapes financial data for a given company code from the website ipostock.co.kr.\n",
                "\n",
                "    Parameters:\n",
                "    - code (str): The company code to scrape financial data for.\n",
                "\n",
                "    Returns:\n",
                "    - Dict[str, Union[str, Dict[str, str], List[Dict[str, str]]]]: A dictionary containing the scraped financial data.\n",
                "    \"\"\"\n",
                "    \n",
                "    code = \"B202010131\"\n",
                "    header = await get_user_agents()\n",
                "    url = f\"http://www.ipostock.co.kr/view_pg/view_04.asp?code={code}\"\n",
                "\n",
                "    try:\n",
                "        async with aiohttp.ClientSession() as session:\n",
                "            async with session.get(url, headers=header) as resp:\n",
                "                soup = BeautifulSoup(await resp.text(), \"lxml\")\n",
                "            soup = BeautifulSoup(await resp.text(), \"lxml\")\n",
                "    except (aiohttp.ClientError, asyncio.TimeoutError) as e:\n",
                "        print(\"Request failed, retrying in 5 seconds...\")\n",
                "        print(e)\n",
                "        await asyncio.sleep(1)\n",
                "\n",
                "    table1, table2, table3, table4, *_ = soup.select(\"table.view_tb\")\n",
                "\n",
                "    \n",
                "    \n",
                "    await extract_data_from_table3(table3)\n",
                "\n",
                "\n",
                "\n",
                "\n",
                "\n",
                "await scrape_ipostock(1)\n"
            ]
        },
        {
            "cell_type": "code",
            "execution_count": 14,
            "id": "eeb6b231-a59b-4fe7-a827-cf3b25828c4c",
            "metadata": {},
            "outputs": [],
            "source": [
                "import requests\n",
                "\n",
                "code = \"B202010131\"\n",
                "url = f\"http://www.ipostock.co.kr/view_pg/view_04.asp?code={code}\"\n",
                "r  = requests.get(url)"
            ]
        },
        {
            "cell_type": "code",
            "execution_count": 19,
            "id": "16997953-9c4b-4c60-8470-b3c4cc9fe3ae",
            "metadata": {},
            "outputs": [],
            "source": [
                "from bs4 import BeautifulSoup\n",
                "soup = BeautifulSoup(r.content, \"lxml\")\n",
                "table1, table2, table3, table4, *_ = soup.select(\"table.view_tb\")"
            ]
        },
        {
            "cell_type": "code",
            "execution_count": 20,
            "id": "9bbe4649-e62b-4811-8f32-e652d56a5630",
            "metadata": {},
            "outputs": [
                {
                    "data": {
                        "text/plain": [
                            "<table class=\"view_tb\" width=\"350\">\n",
                            "<tr align=\"left\" bgcolor=\"#FFFFFF\">\n",
                            "<td align=\"center\" bgcolor=\"F0F0F0\" colspan=\"2\" height=\"25\" width=\"110\"><font color=\"#666666\"><b>공모주식수</b></font></td>\n",
                            "<td align=\"center\" colspan=\"2\" width=\"*\"><b>1,200,000 주 (모집100%)</b></td>\n",
                            "</tr>\n",
                            "<tr align=\"left\" bgcolor=\"#FFFFFF\">\n",
                            "<td align=\"center\" bgcolor=\"F0F0F0\" rowspan=\"4\" width=\"42\"><font color=\"#666666\">그룹별<br/><br/>배 정</font></td>\n",
                            "<td bgcolor=\"F0F0F0\" height=\"26\">  <font color=\"#666666\">전문투자자</font></td>\n",
                            "<td align=\"center\" width=\"125\">900,000 주</td>\n",
                            "<td align=\"center\" bgcolor=\"#FFFFFF\" width=\"90\">75 %</td>\n",
                            "</tr>\n",
                            "<tr align=\"center\" bgcolor=\"#FFFFFF\">\n",
                            "<td bgcolor=\"F0F0F0\" height=\"26\"><font color=\"#666666\">우리사주조합</font></td>\n",
                            "<td>0 주</td>\n",
                            "<td bgcolor=\"#FFFFFF\">0 %</td>\n",
                            "</tr>\n",
                            "<tr align=\"center\" bgcolor=\"#FFFFFF\">\n",
                            "<td bgcolor=\"F0F0F0\" height=\"26\"><font color=\"#666666\"><b>일반청약자</b></font></td>\n",
                            "<td><b>300,000 주</b></td>\n",
                            "<td bgcolor=\"#FFFFFF\"><b>25 %<b></b></b></td>\n",
                            "</tr>\n",
                            "<tr align=\"center\" bgcolor=\"#FFFFFF\">\n",
                            "<td bgcolor=\"F0F0F0\" height=\"26\"><font color=\"#666666\">해외투자자</font></td>\n",
                            "<td>0 주</td>\n",
                            "<td bgcolor=\"#FFFFFF\">0%</td>\n",
                            "</tr>\n",
                            "</table>"
                        ]
                    },
                    "execution_count": 20,
                    "metadata": {},
                    "output_type": "execute_result"
                }
            ],
            "source": [
                "table3"
            ]
        },
        {
            "cell_type": "code",
            "execution_count": 43,
            "id": "a6efd4a0",
            "metadata": {},
            "outputs": [
                {
                    "name": "stdout",
                    "output_type": "stream",
                    "text": [
                        "1200000\n"
                    ]
                }
            ],
            "source": [
                "ci_public_offering_stocks, *rest_trs = table3.select(\"tr\")\n",
                "instance = ci_public_offering_stocks.select_one('td:nth-child(2) > b')\n",
                "data = None\n",
                "ci_public_offering_stocks = 0\n",
                "if instance is None:\n",
                "    pass\n",
                "else : \n",
                "    data = instance.get_text().split('주')[0].strip().replace(',', '')\n",
                "    if data is '' :\n",
                "        pass\n",
                "    ci_public_offering_stocks = int(data)\n",
                "# ci_public_offering_stocks.select(\"td:nth-child(2)\")\n",
                "# keys = [\n",
                "#     \"ci_professional_investor_stock\",\n",
                "#     \"ci_professional_investor_rate\",\n",
                "#     \"ci_esa_stock\",\n",
                "#     \"ci_esa_rate\",\n",
                "#     \"ci_general_subscriber_stock\",\n",
                "#     \"ci_general_subscriber_rate\",\n",
                "#     \"ci_overseas_investor_stock\",\n",
                "#     \"ci_overseas_investor_rate\",\n",
                "# ]\n",
                "# result = []\n",
                "# trs = rest_trs.select(\"tr\")[1:]\n",
                "# for tr in rest_trs:\n",
                "#     tds = tr.select(\"td\")\n",
                "#     for td in tds:\n",
                "#         if re.search(r\"\\d+[,\\d+]*\", td.text):\n",
                "#             result.append(td.text)\n",
                "# result = {key: value for key, value in zip(keys, result)}"
            ]
        },
        {
            "cell_type": "code",
            "execution_count": null,
            "id": "0f60f28a",
            "metadata": {},
            "outputs": [],
            "source": []
        }
    ],
    "metadata": {
        "kernelspec": {
            "display_name": "Python 3",
            "language": "python",
            "name": "python3"
        },
        "language_info": {
            "codemirror_mode": {
                "name": "ipython",
                "version": 3
            },
            "file_extension": ".py",
            "mimetype": "text/x-python",
            "name": "python",
            "nbconvert_exporter": "python",
            "pygments_lexer": "ipython3",
            "version": "3.10.0"
        },
        "vscode": {
            "interpreter": {
                "hash": "23dd2833555082474a62f2b0c84af8a00057ec8124363d5695b4274bdaf6872d"
            }
        }
    },
    "nbformat": 4,
    "nbformat_minor": 5
}
